{
 "cells": [
  {
   "cell_type": "markdown",
   "id": "efa29e9b",
   "metadata": {},
   "source": [
    "# Lab 3: Search Terms w Pandas; 2nd Data Set\n",
    "By Cecelia Henson"
   ]
  },
  {
   "cell_type": "markdown",
   "id": "b4ebb758",
   "metadata": {},
   "source": [
    "## Introduction \n",
    "\n",
    "The purpose of this notebook is to use the same strategies from the first notebook from **Lab 3** but with another data set. The data set I used for this notebook was the South Park Data set which is a .csv files containing script information including: season, episode, character, & line (Git Link: https://github.com/BobAdamsEE/SouthParkData)\n",
    "\n",
    "This notebook goal is to derive the characters and the lines associated to that character from the csv file that contained rows of data with differing row length and compare the timings from the South Park to the initial hypotheis developed for the benchmark and comparison to the Direct Supply dataset"
   ]
  },
  {
   "cell_type": "markdown",
   "id": "afd6e702",
   "metadata": {},
   "source": [
    "#### Inital Hypothesis\n",
    "\n",
    "I believe that because the South Park \"All Seasons\" csv has 70,897 rows of data in it that it will be faster than the Direct Supply data"
   ]
  },
  {
   "cell_type": "code",
   "execution_count": 1,
   "id": "7edef400",
   "metadata": {},
   "outputs": [],
   "source": [
    "import csv\n",
    "from spellchecker import SpellChecker\n",
    "import pandas as pd\n",
    "import sys\n",
    "import re\n",
    "freq_dict = {}\n",
    "freq_dict_spellchecked = []"
   ]
  },
  {
   "cell_type": "markdown",
   "id": "9e1696cc",
   "metadata": {},
   "source": [
    "#### Upload List:\n",
    "The import_csv_list function imports a CSV file and creates a dataframe of the characters and raw lines, while splitting on a comma"
   ]
  },
  {
   "cell_type": "code",
   "execution_count": 2,
   "id": "8c34dca3",
   "metadata": {},
   "outputs": [],
   "source": [
    "def import_csv(csv_list):\n",
    "    df = pd.read_csv(csv_list,  sep= ',' , encoding = 'utf8')\n",
    "    df = pd.DataFrame({\"Character\" : df[\"Character\"], \"Raw Lines\" : df[\"Line\"]})\n",
    "    return df"
   ]
  },
  {
   "cell_type": "markdown",
   "id": "34ac4307",
   "metadata": {},
   "source": [
    "#### List Frequency:\n",
    "Creates a frequency dictionary given a string lust where the key is a string and the key-value is how many times the string appreared in the list"
   ]
  },
  {
   "cell_type": "code",
   "execution_count": 3,
   "id": "64b289b9",
   "metadata": {},
   "outputs": [],
   "source": [
    "def list_to_freq_dict(input_list):\n",
    "    freq_dict = {}\n",
    "    for i in input_list:\n",
    "        freq_dict[i] = input_list.count(i)\n",
    "    return freq_dict"
   ]
  },
  {
   "cell_type": "markdown",
   "id": "5479c2a5",
   "metadata": {},
   "source": [
    "#### Sort Frequency:\n",
    "Creates a sorted frequency list given a frequency dictionary"
   ]
  },
  {
   "cell_type": "code",
   "execution_count": 4,
   "id": "398c9708",
   "metadata": {},
   "outputs": [],
   "source": [
    "def sort_freq_dict(freq_dict):\n",
    "    sorted_list = [(freq_dict[key], key) for key in freq_dict]\n",
    "    sorted_list.sort()\n",
    "    sorted_list.reverse()\n",
    "    return sorted_list"
   ]
  },
  {
   "cell_type": "markdown",
   "id": "28c85c9a",
   "metadata": {},
   "source": [
    "#### Testing\n",
    "This cell imports the csv to the search term data frame and filters the data from the dataset by removing new lines and single quotes"
   ]
  },
  {
   "cell_type": "code",
   "execution_count": 5,
   "id": "79892f9b",
   "metadata": {},
   "outputs": [
    {
     "data": {
      "text/html": [
       "<div>\n",
       "<style scoped>\n",
       "    .dataframe tbody tr th:only-of-type {\n",
       "        vertical-align: middle;\n",
       "    }\n",
       "\n",
       "    .dataframe tbody tr th {\n",
       "        vertical-align: top;\n",
       "    }\n",
       "\n",
       "    .dataframe thead th {\n",
       "        text-align: right;\n",
       "    }\n",
       "</style>\n",
       "<table border=\"1\" class=\"dataframe\">\n",
       "  <thead>\n",
       "    <tr style=\"text-align: right;\">\n",
       "      <th></th>\n",
       "      <th>Character</th>\n",
       "      <th>Raw Lines</th>\n",
       "      <th>Removed New Line</th>\n",
       "      <th>Removed Single Quote</th>\n",
       "    </tr>\n",
       "  </thead>\n",
       "  <tbody>\n",
       "    <tr>\n",
       "      <th>0</th>\n",
       "      <td>Stan</td>\n",
       "      <td>You guys, you guys! Chef is going away. \\n</td>\n",
       "      <td>You guys, you guys! Chef is going away.</td>\n",
       "      <td>You guys, you guys! Chef is going away.</td>\n",
       "    </tr>\n",
       "    <tr>\n",
       "      <th>1</th>\n",
       "      <td>Kyle</td>\n",
       "      <td>Going away? For how long?\\n</td>\n",
       "      <td>Going away? For how long?</td>\n",
       "      <td>Going away? For how long?</td>\n",
       "    </tr>\n",
       "    <tr>\n",
       "      <th>2</th>\n",
       "      <td>Stan</td>\n",
       "      <td>Forever.\\n</td>\n",
       "      <td>Forever.</td>\n",
       "      <td>Forever.</td>\n",
       "    </tr>\n",
       "    <tr>\n",
       "      <th>3</th>\n",
       "      <td>Chef</td>\n",
       "      <td>I'm sorry boys.\\n</td>\n",
       "      <td>I'm sorry boys.</td>\n",
       "      <td>I'm sorry boys.</td>\n",
       "    </tr>\n",
       "    <tr>\n",
       "      <th>4</th>\n",
       "      <td>Stan</td>\n",
       "      <td>Chef said he's been bored, so he joining a gro...</td>\n",
       "      <td>Chef said he's been bored, so he joining a gro...</td>\n",
       "      <td>Chef said he's been bored, so he joining a gro...</td>\n",
       "    </tr>\n",
       "    <tr>\n",
       "      <th>5</th>\n",
       "      <td>Chef</td>\n",
       "      <td>Wow!\\n</td>\n",
       "      <td>Wow!</td>\n",
       "      <td>Wow!</td>\n",
       "    </tr>\n",
       "    <tr>\n",
       "      <th>6</th>\n",
       "      <td>Mrs. Garrison</td>\n",
       "      <td>Chef?? What kind of questions do you think adv...</td>\n",
       "      <td>Chef?? What kind of questions do you think adv...</td>\n",
       "      <td>Chef?? What kind of questions do you think adv...</td>\n",
       "    </tr>\n",
       "    <tr>\n",
       "      <th>7</th>\n",
       "      <td>Chef</td>\n",
       "      <td>What's the meaning of life? Why are we here?\\n</td>\n",
       "      <td>What's the meaning of life? Why are we here?</td>\n",
       "      <td>What's the meaning of life? Why are we here?</td>\n",
       "    </tr>\n",
       "    <tr>\n",
       "      <th>8</th>\n",
       "      <td>Mrs. Garrison</td>\n",
       "      <td>I hope you're making the right choice.\\n</td>\n",
       "      <td>I hope you're making the right choice.</td>\n",
       "      <td>I hope you're making the right choice.</td>\n",
       "    </tr>\n",
       "    <tr>\n",
       "      <th>9</th>\n",
       "      <td>Cartman</td>\n",
       "      <td>I'm gonna miss him.  I'm gonna miss Chef and I...</td>\n",
       "      <td>I'm gonna miss him.  I'm gonna miss Chef and I...</td>\n",
       "      <td>I'm gonna miss him.  I'm gonna miss Chef and I...</td>\n",
       "    </tr>\n",
       "    <tr>\n",
       "      <th>10</th>\n",
       "      <td>Stan</td>\n",
       "      <td>Dude, how are we gonna go on? Chef was our fuh...</td>\n",
       "      <td>Dude, how are we gonna go on? Chef was our fuh...</td>\n",
       "      <td>Dude, how are we gonna go on? Chef was our fuh...</td>\n",
       "    </tr>\n",
       "    <tr>\n",
       "      <th>11</th>\n",
       "      <td>Mayor McDaniels</td>\n",
       "      <td>And we will all miss you, Chef,  but we know y...</td>\n",
       "      <td>And we will all miss you, Chef,  but we know y...</td>\n",
       "      <td>And we will all miss you, Chef,  but we know y...</td>\n",
       "    </tr>\n",
       "    <tr>\n",
       "      <th>12</th>\n",
       "      <td>Jimbo</td>\n",
       "      <td>Bye-bye!\\n</td>\n",
       "      <td>Bye-bye!</td>\n",
       "      <td>Bye-bye!</td>\n",
       "    </tr>\n",
       "    <tr>\n",
       "      <th>13</th>\n",
       "      <td>Gerald</td>\n",
       "      <td>Good-bye!\\n</td>\n",
       "      <td>Good-bye!</td>\n",
       "      <td>Good-bye!</td>\n",
       "    </tr>\n",
       "    <tr>\n",
       "      <th>14</th>\n",
       "      <td>Mr. Mackey</td>\n",
       "      <td>So long!\\n</td>\n",
       "      <td>So long!</td>\n",
       "      <td>So long!</td>\n",
       "    </tr>\n",
       "    <tr>\n",
       "      <th>15</th>\n",
       "      <td>A Man</td>\n",
       "      <td>So long, Chef!\\n</td>\n",
       "      <td>So long, Chef!</td>\n",
       "      <td>So long, Chef!</td>\n",
       "    </tr>\n",
       "    <tr>\n",
       "      <th>16</th>\n",
       "      <td>A Sign-Holder</td>\n",
       "      <td>Good-bye, Chef!\\n</td>\n",
       "      <td>Good-bye, Chef!</td>\n",
       "      <td>Good-bye, Chef!</td>\n",
       "    </tr>\n",
       "    <tr>\n",
       "      <th>17</th>\n",
       "      <td>Randy</td>\n",
       "      <td>Good-bye, Chef! Have a great time with the Sup...</td>\n",
       "      <td>Good-bye, Chef! Have a great time with the Sup...</td>\n",
       "      <td>Good-bye, Chef! Have a great time with the Sup...</td>\n",
       "    </tr>\n",
       "    <tr>\n",
       "      <th>18</th>\n",
       "      <td>Chef</td>\n",
       "      <td>Good-bye! ..\\n</td>\n",
       "      <td>Good-bye! ..</td>\n",
       "      <td>Good-bye! ..</td>\n",
       "    </tr>\n",
       "    <tr>\n",
       "      <th>19</th>\n",
       "      <td>Kyle</td>\n",
       "      <td>Draw two card, fatass.\\n</td>\n",
       "      <td>Draw two card, fatass.</td>\n",
       "      <td>Draw two card, fatass.</td>\n",
       "    </tr>\n",
       "  </tbody>\n",
       "</table>\n",
       "</div>"
      ],
      "text/plain": [
       "          Character                                          Raw Lines  \\\n",
       "0              Stan         You guys, you guys! Chef is going away. \\n   \n",
       "1              Kyle                        Going away? For how long?\\n   \n",
       "2              Stan                                         Forever.\\n   \n",
       "3              Chef                                  I'm sorry boys.\\n   \n",
       "4              Stan  Chef said he's been bored, so he joining a gro...   \n",
       "5              Chef                                             Wow!\\n   \n",
       "6     Mrs. Garrison  Chef?? What kind of questions do you think adv...   \n",
       "7              Chef     What's the meaning of life? Why are we here?\\n   \n",
       "8     Mrs. Garrison           I hope you're making the right choice.\\n   \n",
       "9           Cartman  I'm gonna miss him.  I'm gonna miss Chef and I...   \n",
       "10             Stan  Dude, how are we gonna go on? Chef was our fuh...   \n",
       "11  Mayor McDaniels  And we will all miss you, Chef,  but we know y...   \n",
       "12            Jimbo                                         Bye-bye!\\n   \n",
       "13           Gerald                                        Good-bye!\\n   \n",
       "14       Mr. Mackey                                         So long!\\n   \n",
       "15            A Man                                   So long, Chef!\\n   \n",
       "16    A Sign-Holder                                  Good-bye, Chef!\\n   \n",
       "17            Randy  Good-bye, Chef! Have a great time with the Sup...   \n",
       "18             Chef                                     Good-bye! ..\\n   \n",
       "19             Kyle                           Draw two card, fatass.\\n   \n",
       "\n",
       "                                     Removed New Line  \\\n",
       "0            You guys, you guys! Chef is going away.    \n",
       "1                           Going away? For how long?   \n",
       "2                                            Forever.   \n",
       "3                                     I'm sorry boys.   \n",
       "4   Chef said he's been bored, so he joining a gro...   \n",
       "5                                                Wow!   \n",
       "6   Chef?? What kind of questions do you think adv...   \n",
       "7        What's the meaning of life? Why are we here?   \n",
       "8              I hope you're making the right choice.   \n",
       "9   I'm gonna miss him.  I'm gonna miss Chef and I...   \n",
       "10  Dude, how are we gonna go on? Chef was our fuh...   \n",
       "11  And we will all miss you, Chef,  but we know y...   \n",
       "12                                           Bye-bye!   \n",
       "13                                          Good-bye!   \n",
       "14                                           So long!   \n",
       "15                                     So long, Chef!   \n",
       "16                                    Good-bye, Chef!   \n",
       "17  Good-bye, Chef! Have a great time with the Sup...   \n",
       "18                                       Good-bye! ..   \n",
       "19                             Draw two card, fatass.   \n",
       "\n",
       "                                 Removed Single Quote  \n",
       "0            You guys, you guys! Chef is going away.   \n",
       "1                           Going away? For how long?  \n",
       "2                                            Forever.  \n",
       "3                                     I'm sorry boys.  \n",
       "4   Chef said he's been bored, so he joining a gro...  \n",
       "5                                                Wow!  \n",
       "6   Chef?? What kind of questions do you think adv...  \n",
       "7        What's the meaning of life? Why are we here?  \n",
       "8              I hope you're making the right choice.  \n",
       "9   I'm gonna miss him.  I'm gonna miss Chef and I...  \n",
       "10  Dude, how are we gonna go on? Chef was our fuh...  \n",
       "11  And we will all miss you, Chef,  but we know y...  \n",
       "12                                           Bye-bye!  \n",
       "13                                          Good-bye!  \n",
       "14                                           So long!  \n",
       "15                                     So long, Chef!  \n",
       "16                                    Good-bye, Chef!  \n",
       "17  Good-bye, Chef! Have a great time with the Sup...  \n",
       "18                                       Good-bye! ..  \n",
       "19                             Draw two card, fatass.  "
      ]
     },
     "execution_count": 5,
     "metadata": {},
     "output_type": "execute_result"
    }
   ],
   "source": [
    "df = import_csv(\"All-seasons-south-park.csv\")\n",
    "df[\"Removed New Line\"] = df[\"Raw Lines\"].str.replace('\\n', '')\n",
    "df[\"Removed Single Quote\"] = df[\"Removed New Line\"].str.replace('\"', '')\n",
    "\n",
    "df.head(20)"
   ]
  },
  {
   "cell_type": "markdown",
   "id": "6c3c2061",
   "metadata": {},
   "source": [
    "#### Hypothesis\n",
    "This cell benchmarks the time it takes for the dictionary and list sorted frequency list of search terms and I think that this will run in 30 sec"
   ]
  },
  {
   "cell_type": "code",
   "execution_count": 6,
   "id": "3759b071",
   "metadata": {},
   "outputs": [
    {
     "name": "stdout",
     "output_type": "stream",
     "text": [
      "Wall time: 1min 18s\n"
     ]
    }
   ],
   "source": [
    "%%time\n",
    "spellcheck_freq_dict = list_to_freq_dict(df[\"Character\"].tolist())\n",
    "spellcheck_freq_list = sort_freq_dict(spellcheck_freq_dict)"
   ]
  },
  {
   "cell_type": "markdown",
   "id": "c06bd470",
   "metadata": {},
   "source": [
    "#### Hypothesis\n",
    "This cell benchmarks the time it takes for the data frame approach for the sorted frequency list of search terms and I predict that this will run in 5.4 ms"
   ]
  },
  {
   "cell_type": "code",
   "execution_count": 7,
   "id": "68b13752",
   "metadata": {},
   "outputs": [
    {
     "name": "stdout",
     "output_type": "stream",
     "text": [
      "Wall time: 9 ms\n"
     ]
    },
    {
     "data": {
      "text/plain": [
       "Cartman         9774\n",
       "Stan            7680\n",
       "Kyle            7099\n",
       "Butters         2602\n",
       "Randy           2467\n",
       "Mr. Garrison    1002\n",
       "Chef             917\n",
       "Kenny            881\n",
       "Sharon           862\n",
       "Mr. Mackey       633\n",
       "Gerald           626\n",
       "Jimmy            597\n",
       "Wendy            585\n",
       "Liane            582\n",
       "Sheila           566\n",
       "Jimbo            556\n",
       "Announcer        407\n",
       "Stephen          357\n",
       "Craig            326\n",
       "Clyde            317\n",
       "Name: Character, dtype: int64"
      ]
     },
     "execution_count": 7,
     "metadata": {},
     "output_type": "execute_result"
    }
   ],
   "source": [
    "%time freq = df[\"Character\"].value_counts(dropna = True)\n",
    "freq.head(20)"
   ]
  },
  {
   "cell_type": "markdown",
   "id": "986b7334",
   "metadata": {},
   "source": [
    "This cell benchmarks the size of the sorted frequency data frame"
   ]
  },
  {
   "cell_type": "code",
   "execution_count": 8,
   "id": "1b322247",
   "metadata": {},
   "outputs": [
    {
     "data": {
      "text/plain": [
       "296691"
      ]
     },
     "execution_count": 8,
     "metadata": {},
     "output_type": "execute_result"
    }
   ],
   "source": [
    "freq.memory_usage(deep = True)"
   ]
  },
  {
   "cell_type": "markdown",
   "id": "fc745d4d",
   "metadata": {},
   "source": [
    "This cell benchmarks the size of the sorted frequency list"
   ]
  },
  {
   "cell_type": "code",
   "execution_count": 9,
   "id": "5c6b0a5d",
   "metadata": {},
   "outputs": [
    {
     "data": {
      "text/plain": [
       "33048"
      ]
     },
     "execution_count": 9,
     "metadata": {},
     "output_type": "execute_result"
    }
   ],
   "source": [
    "sys.getsizeof(spellcheck_freq_list)"
   ]
  },
  {
   "cell_type": "markdown",
   "id": "231dc3ff",
   "metadata": {},
   "source": [
    "## Conclusion "
   ]
  },
  {
   "cell_type": "markdown",
   "id": "a47c215e",
   "metadata": {},
   "source": [
    "My inital conclusion was correct that the South Park All Season csv was significantly faster than the Direct Supply data which had over one million rows of data. My predictions for the specific time that the nontrivial cells were about half off of the actual benchmarked time. The longest running cell was the list version of the sorted and frequent data at 1 min and 18 sec while the **value_counts** with the data frame computed it in 9 ms. This led to the dataframe requiring more memory usage at 296691 whereas the list was at 33048. This additionally proves to the theory in from the PT1 of lab 3 where the **value_counts** when used with the Direct Supply data it shows it as a faster way to get the frequency than a list but at the cost of memory usage, even with a smaller data set like the South Park csv."
   ]
  },
  {
   "cell_type": "code",
   "execution_count": null,
   "id": "03e415ca",
   "metadata": {},
   "outputs": [],
   "source": []
  }
 ],
 "metadata": {
  "kernelspec": {
   "display_name": "Python 3 (ipykernel)",
   "language": "python",
   "name": "python3"
  },
  "language_info": {
   "codemirror_mode": {
    "name": "ipython",
    "version": 3
   },
   "file_extension": ".py",
   "mimetype": "text/x-python",
   "name": "python",
   "nbconvert_exporter": "python",
   "pygments_lexer": "ipython3",
   "version": "3.9.13"
  }
 },
 "nbformat": 4,
 "nbformat_minor": 5
}
