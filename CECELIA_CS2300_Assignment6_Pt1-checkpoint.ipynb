{
 "cells": [
  {
   "cell_type": "markdown",
   "metadata": {},
   "source": [
    "## Introduction to Functional Programming\n",
    "### Cecelia Henson\n",
    "\n",
    "In the modern programming world we have Object Orientated Programming (OOP) and Functional Programming (FP). Both have been around for a long time but in this introduction, we will be contrasting FP against OOP.\n",
    "\n",
    "Here’s an example in python of a Pure (stateless) Function:"
   ]
  },
  {
   "cell_type": "code",
   "execution_count": 1,
   "metadata": {},
   "outputs": [],
   "source": [
    "def add(x, y):\n",
    "    return x + y"
   ]
  },
  {
   "cell_type": "markdown",
   "metadata": {},
   "source": [
    "It’s a pure function since it only deals with its inputs. It does add, but since it doesn’t return the results, it’s useless.\n",
    "\n",
    "Pure Functions will always produce the same output given the same inputs."
   ]
  },
  {
   "cell_type": "code",
   "execution_count": 2,
   "metadata": {},
   "outputs": [
    {
     "name": "stdout",
     "output_type": "stream",
     "text": [
      "4\n",
      "4\n",
      "4\n"
     ]
    }
   ],
   "source": [
    "print(add(1,3))\n",
    "print(add(1,3))\n",
    "print(add(1,3))"
   ]
  },
  {
   "cell_type": "markdown",
   "metadata": {},
   "source": [
    "Pure functions have no side effects and are expexted to return the same output everytime.\n",
    "\n",
    "In Imperative Programming Languages such as Javascript, Java, and C#, Side Effects are everywhere. \n",
    "\n",
    "This makes debugging very difficult because a variable can be changed anywhere in your program. So when you have a bug because a variable is changed to the wrong value at the wrong time, where do you look? Everywhere? That’s not good.\n",
    "\n",
    "\n",
    "## Immutability\n",
    "\n",
    "In Imperative Programming, it is common to have mutate a variable and return the mutated variable in a function. This means it takes the current value of `x` adds `1` to it and put that result back into `x`.\n",
    "\n",
    "Well, in functional programming, `x = x + 1` is illegal. There are no instance/global variables in FP\n",
    "\n",
    "Stored values are still called variables because of history but they are constants, i.e. once `x` takes on a value, it’s that value for life.\n",
    "\n",
    "Not to worry though, `x` is can still be a local variable but while it’s alive, it can never change.\n",
    "\n",
    "Here’s an example of constant variables in Python"
   ]
  },
  {
   "cell_type": "code",
   "execution_count": 3,
   "metadata": {},
   "outputs": [
    {
     "name": "stdout",
     "output_type": "stream",
     "text": [
      "16\n"
     ]
    }
   ],
   "source": [
    "def add_one_to_sum(y, z):\n",
    "    x = 1\n",
    "    return x + y + z\n",
    "\n",
    "print(add_one_to_sum(10,5))"
   ]
  },
  {
   "cell_type": "markdown",
   "metadata": {},
   "source": [
    "## FP replaces Loops with Recursion\n",
    "\n",
    "Here's an example of a python for loop. Note - see how each iteration has side effects on the `total` variable"
   ]
  },
  {
   "cell_type": "code",
   "execution_count": 4,
   "metadata": {},
   "outputs": [
    {
     "name": "stdout",
     "output_type": "stream",
     "text": [
      "45\n"
     ]
    }
   ],
   "source": [
    "total = 0\n",
    "for num in range(10):\n",
    "    total += num\n",
    "\n",
    "print(total)"
   ]
  },
  {
   "cell_type": "markdown",
   "metadata": {},
   "source": [
    "Here is an example of using recursion to solve the same problem. We will need to import the `reduce` function from pythons functools, and will also need to use python's `lambda` function.\n",
    "\n",
    "Under the hood the reduct function generates a new list then reduces it to a single value and sets total to the value of the function.\n",
    "\n",
    "It is debatable whether this creates more readable/debuggable code, but it is a \"Pure Functional\" approach."
   ]
  },
  {
   "cell_type": "code",
   "execution_count": 5,
   "metadata": {},
   "outputs": [
    {
     "name": "stdout",
     "output_type": "stream",
     "text": [
      "45\n"
     ]
    }
   ],
   "source": [
    "from functools import reduce\n",
    "\n",
    "total = reduce(lambda x, y: x + y,range(10))\n",
    "print(total)"
   ]
  },
  {
   "cell_type": "markdown",
   "metadata": {},
   "source": [
    "## FP List term replacement approaches\n",
    "Here are a few examples of different ways we can replace items in lists"
   ]
  },
  {
   "cell_type": "code",
   "execution_count": 6,
   "metadata": {},
   "outputs": [
    {
     "name": "stdout",
     "output_type": "stream",
     "text": [
      "The original list : ['Santa', 'Klaus', 'is', 'coming', '2', 'town']\n"
     ]
    }
   ],
   "source": [
    "test_list = ['Santa', 'Klaus', 'is', 'coming', '2', 'town'] \n",
    "  \n",
    "print(\"The original list : \" + str(test_list )) "
   ]
  },
  {
   "cell_type": "code",
   "execution_count": 7,
   "metadata": {},
   "outputs": [
    {
     "name": "stdout",
     "output_type": "stream",
     "text": [
      "The list after substring replacement : ['Santa', 'Klaus', 'is', 'coming', 'to', 'town']\n"
     ]
    }
   ],
   "source": [
    "res = [sub.replace('2', 'to') for sub in test_list] \n",
    "print(\"The list after substring replacement : \" + str(res)) "
   ]
  },
  {
   "cell_type": "code",
   "execution_count": 8,
   "metadata": {},
   "outputs": [
    {
     "name": "stdout",
     "output_type": "stream",
     "text": [
      "The list after substring replacement : ['Santa', 'Klaus', 'is', 'coming', 'too', 'town']\n"
     ]
    }
   ],
   "source": [
    "res2 = list(map(lambda st: str.replace(st, \"2\", \"too\"), test_list)) \n",
    "print(\"The list after substring replacement : \" + str(res2)) "
   ]
  },
  {
   "cell_type": "markdown",
   "metadata": {},
   "source": [
    "Implement the #FIXME code below to create a functional function that enables the appropriate replacement"
   ]
  },
  {
   "cell_type": "code",
   "execution_count": 9,
   "metadata": {},
   "outputs": [
    {
     "name": "stdout",
     "output_type": "stream",
     "text": [
      "The list after substring replacement : ['Santa', 'Klaus', 'is', 'coming', 'two', 'town']\n"
     ]
    }
   ],
   "source": [
    "def my_replace(s, before, after):\n",
    "    res4 = s.replace(before, after)\n",
    "    return res4\n",
    "res3 = list(map(lambda st: my_replace(st, \"2\", \"two\"), test_list)) \n",
    "print(\"The list after substring replacement : \" + str(res3)) "
   ]
  },
  {
   "cell_type": "markdown",
   "metadata": {},
   "source": [
    "What if you want to use a dictionary to replace items in a string?"
   ]
  },
  {
   "cell_type": "code",
   "execution_count": 10,
   "metadata": {},
   "outputs": [],
   "source": [
    "cardinality = {\"north\":\"N\", \"south\":\"S\", \"east\":\"E\", \"west\":\"W\" }\n",
    "address = \"123 north anywhere street\""
   ]
  },
  {
   "cell_type": "code",
   "execution_count": 11,
   "metadata": {},
   "outputs": [
    {
     "name": "stdout",
     "output_type": "stream",
     "text": [
      "123 N anywhere street\n"
     ]
    }
   ],
   "source": [
    "print(\" \".join(cardinality.get(ele, ele) for ele in address.split()))"
   ]
  },
  {
   "cell_type": "markdown",
   "metadata": {},
   "source": [
    "Can you do it with a functional approach with lists?\n",
    "\n",
    "Replace the #FIXME code below"
   ]
  },
  {
   "cell_type": "code",
   "execution_count": 12,
   "metadata": {},
   "outputs": [],
   "source": [
    "address_list = ['123', 'north', 'anywhere', 'street']"
   ]
  },
  {
   "cell_type": "code",
   "execution_count": 13,
   "metadata": {},
   "outputs": [],
   "source": [
    "def dict_replace(s, d):\n",
    "    return \" \".join(d.get(a, a) for a in s.split())"
   ]
  },
  {
   "cell_type": "code",
   "execution_count": 14,
   "metadata": {},
   "outputs": [
    {
     "name": "stdout",
     "output_type": "stream",
     "text": [
      "['123', 'N', 'anywhere', 'street']\n"
     ]
    }
   ],
   "source": [
    "print(list(map(lambda s: dict_replace(s, cardinality), address_list)))"
   ]
  }
 ],
 "metadata": {
  "kernelspec": {
   "display_name": "Python 3 (ipykernel)",
   "language": "python",
   "name": "python3"
  },
  "language_info": {
   "codemirror_mode": {
    "name": "ipython",
    "version": 3
   },
   "file_extension": ".py",
   "mimetype": "text/x-python",
   "name": "python",
   "nbconvert_exporter": "python",
   "pygments_lexer": "ipython3",
   "version": "3.9.13"
  }
 },
 "nbformat": 4,
 "nbformat_minor": 2
}
