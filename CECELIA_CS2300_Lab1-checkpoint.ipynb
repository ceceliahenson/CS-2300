{
 "cells": [
  {
   "cell_type": "markdown",
   "id": "251a15dc",
   "metadata": {},
   "source": [
    "# Lab 1 Birthday Probability"
   ]
  },
  {
   "cell_type": "markdown",
   "id": "b67aa158",
   "metadata": {},
   "source": [
    "## Intro"
   ]
  },
  {
   "cell_type": "markdown",
   "id": "0f26343e",
   "metadata": {},
   "source": [
    "The purpose of this notebook is to use the Monte Carlo simulation to answer questions related to the probability of a person having a birthday a collison with another person in a random group size larger than 23. The Monty Carlo simulation preforms a simulation of a large number of experiments while determining the ratio of sucess to the overall number. For instance, if you run **N** experiments and look at the how many times a certain desired outcome occurs which would be **M**, it can be estimated that the probability of that the outcome will be M/N."
   ]
  },
  {
   "cell_type": "markdown",
   "id": "2eeea8ef",
   "metadata": {},
   "source": [
    "### Written By: Cecelia Henson"
   ]
  },
  {
   "cell_type": "markdown",
   "id": "1f4b204d",
   "metadata": {},
   "source": [
    "##### Importing Libraries"
   ]
  },
  {
   "cell_type": "code",
   "execution_count": 1,
   "id": "26c9b0da",
   "metadata": {},
   "outputs": [],
   "source": [
    "import random\n",
    "import time "
   ]
  },
  {
   "cell_type": "markdown",
   "id": "f3b3aa55",
   "metadata": {},
   "source": [
    "The **birthdayGen** method generates a list of random birthdays from 1 to 365 based on **n** numbers"
   ]
  },
  {
   "cell_type": "code",
   "execution_count": 2,
   "id": "1d940acb",
   "metadata": {},
   "outputs": [],
   "source": [
    "def birthdayGen(n = 25):\n",
    "    \"\"\"\n",
    "    Generates list of n number of random birthdays integers between 1 and 365\n",
    "    \n",
    "    param n: the number of birthday that will be generated; default argument is 25.\n",
    "    return: a list of n number of random birthdays\n",
    "    \"\"\"\n",
    "    birthdays = list()\n",
    "    for x in range(n):\n",
    "        birthdays.append(random.randint(1,365))\n",
    "    return birthdays"
   ]
  },
  {
   "cell_type": "markdown",
   "id": "3a552cc1",
   "metadata": {},
   "source": [
    "The **sameBirthday** method checks to see if there are any repeating birthdays in the list by using the returned list from **birthdayGen**"
   ]
  },
  {
   "cell_type": "code",
   "execution_count": 3,
   "id": "c0a4b142",
   "metadata": {},
   "outputs": [],
   "source": [
    "def sameBirthday(birthdays):\n",
    "   \n",
    "    birthdaySet = set()\n",
    "    for birthday in birthdays:\n",
    "        birthdaySet.add(birthday)\n",
    "    if(len(birthdaySet) != len(birthdays)):\n",
    "        return 1\n",
    "    else: \n",
    "        return 0\n",
    "    "
   ]
  },
  {
   "cell_type": "markdown",
   "id": "79dc9070",
   "metadata": {},
   "source": [
    "The **birthdayProb** method calculates the probability of a group size (G) having the multiple birthdays that are the same based on a desired number of simulations (N) with an influence from the Monte Carlo simulation"
   ]
  },
  {
   "cell_type": "code",
   "execution_count": 4,
   "id": "fc9acd5d",
   "metadata": {},
   "outputs": [],
   "source": [
    "def birthdayProb(G, N):\n",
    "    \n",
    "    counter = 0\n",
    "    for x in range(N):\n",
    "        birthdays = birthdayGen(G)\n",
    "        counter += sameBirthday(birthdays)\n",
    "    return counter / N * 100\n",
    "    "
   ]
  },
  {
   "cell_type": "markdown",
   "id": "645599a1",
   "metadata": {},
   "source": [
    "This cell tests the **birthdayProb** method by using 30 as (G) and 70 as (N)"
   ]
  },
  {
   "cell_type": "code",
   "execution_count": 5,
   "id": "19dd0887",
   "metadata": {},
   "outputs": [
    {
     "data": {
      "text/plain": [
       "71.42857142857143"
      ]
     },
     "execution_count": 5,
     "metadata": {},
     "output_type": "execute_result"
    }
   ],
   "source": [
    "birthdayProb(30, 70)"
   ]
  },
  {
   "cell_type": "markdown",
   "id": "0f7ae830",
   "metadata": {},
   "source": [
    "This cell demonstrates the usages of the help command in python, which is used to show the docstrings of a module, function, classes, etc "
   ]
  },
  {
   "cell_type": "code",
   "execution_count": 6,
   "id": "141b8464",
   "metadata": {},
   "outputs": [
    {
     "name": "stdout",
     "output_type": "stream",
     "text": [
      "Help on function birthdayGen in module __main__:\n",
      "\n",
      "birthdayGen(n=25)\n",
      "    Generates list of n number of random birthdays integers between 1 and 365\n",
      "    \n",
      "    param n: the number of birthday that will be generated; default argument is 25.\n",
      "    return: a list of n number of random birthdays\n",
      "\n"
     ]
    }
   ],
   "source": [
    "help(birthdayGen)"
   ]
  },
  {
   "cell_type": "markdown",
   "id": "a1b15817",
   "metadata": {},
   "source": [
    "#### Calculation Cell:\n",
    "\n",
    "This cell is prompting the user to enter the size of the group **G** and the number of simulations **N** they want to use to find the probability of having the same number of birthdays in the desired group size **G**"
   ]
  },
  {
   "cell_type": "code",
   "execution_count": 7,
   "id": "a0c6ab26",
   "metadata": {},
   "outputs": [
    {
     "name": "stdout",
     "output_type": "stream",
     "text": [
      "Enter the number of people you want in your group: 25\n",
      "Enter how many times you want to run an experiment: 10000\n",
      "The probability of a group size 25 having a common birthday is 56.07%\n"
     ]
    }
   ],
   "source": [
    "G = input(\"Enter the number of people you want in your group: \")\n",
    "N = input(\"Enter how many times you want to run an experiment: \")\n",
    "\n",
    "G = int(G)\n",
    "N = int(N)\n",
    "\n",
    "probability = birthdayProb(G, N)\n",
    "print(\"The probability of a group size \" + str(G) + \" having a common birthday is \" + str(probability) + \"%\")"
   ]
  },
  {
   "cell_type": "markdown",
   "id": "3561fdf4",
   "metadata": {},
   "source": [
    "The **calculateSmallestGroup** method calculates the smallest group size to have a greater than 50% probabiility of having a repeating birthday determined by the number of simulation ran **N**"
   ]
  },
  {
   "cell_type": "code",
   "execution_count": 13,
   "id": "8e0081d7",
   "metadata": {},
   "outputs": [
    {
     "name": "stdout",
     "output_type": "stream",
     "text": [
      "23\n",
      "Wall time: 5.18 s\n"
     ]
    }
   ],
   "source": [
    "def calculateSmallestGroup(N):\n",
    "    \n",
    "    group = 1\n",
    "    while birthdayProb(group, N) < 50:\n",
    "        group += 1\n",
    "    return group"
   ]
  },
  {
   "cell_type": "markdown",
   "id": "d0fc542d",
   "metadata": {},
   "source": [
    "#### Benchmarking\n",
    "This cell tests the **calculateSmallestGroup** by benchmarking how long it takes to run the program to get the results of the of the smallest group greater than 50% probability of repeating birthdays."
   ]
  },
  {
   "cell_type": "code",
   "execution_count": 14,
   "id": "2acc964f",
   "metadata": {
    "scrolled": true
   },
   "outputs": [
    {
     "name": "stdout",
     "output_type": "stream",
     "text": [
      "23\n",
      "Wall time: 5.06 s\n"
     ]
    }
   ],
   "source": [
    "%%time\n",
    "print(calculateSmallestGroup(20000))"
   ]
  },
  {
   "cell_type": "markdown",
   "id": "f39d0a87",
   "metadata": {},
   "source": [
    "###### Benchmark Results: "
   ]
  },
  {
   "cell_type": "markdown",
   "id": "9d735eb1",
   "metadata": {},
   "source": [
    "Running on personal computer -  \n",
    "Number of Simulations - 20,000  \n",
    "Group Size - 25  \n",
    "Result - 6.78s"
   ]
  },
  {
   "cell_type": "markdown",
   "id": "0ed5180f",
   "metadata": {},
   "source": [
    "Running on cluster -  \n",
    "Number of Simulations - 20,000  \n",
    "Group Size - 25  \n",
    "Result - 5.17s  "
   ]
  },
  {
   "cell_type": "markdown",
   "id": "bc7894d5",
   "metadata": {},
   "source": [
    "The result of my benchmark of running this cell on a cluster with Rosie versus my personal computer is about a one second difference in favor of a faster cluster that Rosie ran, however my testing environments was my computer being plugged in with a full battery. If my battery was more drained and not plugged in, my hypothesis is that the time result would have been more drastic. \n",
    "\n",
    "The longest running cell is the benchmarking cell to calculate the smallest group to have an over 50% probability because it touches almost every function cell to come to the time conclusion. "
   ]
  },
  {
   "cell_type": "markdown",
   "id": "8c75e6b8",
   "metadata": {},
   "source": [
    "## Conclusion "
   ]
  },
  {
   "cell_type": "markdown",
   "id": "f79fc506",
   "metadata": {},
   "source": [
    "The probability of a group size of 20 people that have at least one pair of the same birthday was found to be **41.01%** based on a simulation of 10,000 experiments\n",
    "\n",
    "The smallest group size to have a probability greater than 50% with two people sharing the same birthday by running this lab was a group size of 23 because when testing group sizes from 10 to 30 with a simulation experiment number of 10,000 each time when increasing the group size it resulted consistently at 23. When I would increase the group to 30 as a test it still stayed at 23 for the number lowest number to have a greater than 50% probability. \n",
    "\n",
    "The **N** value I found had to be 10,000 or greater for an accurate result. When I was first doing the lab I was using 100 and 1,000 for a group size of 20-25 and I kept getting 100% probability which I knew wasn't correct. Since the amount of experiments were so low it wasn't giving me any confidence in that approach, I then decided to add another zero to the **N** value, making it 10,000 which gave a more specific answer. I then tested it with 20,000 and I would get a similar result with a +/- 1 difference.\n",
    "\n",
    "A hash collison is when two pieces of data in a has table share the same hash value. This problem relates to a hash collisons because running the simulation of each group size just a single time can give you the same result regardless of the different size of the group. If you have a group size of 20 and test it by a simulation number 1 you will get 100%, then you run a group size of 100 but still only testing it one time you will still get a probability of 100%. By increasing the amount of simulations run you get a better more accurate answer because there you are checking the type of data more than one time which removes outliers."
   ]
  }
 ],
 "metadata": {
  "kernelspec": {
   "display_name": "Python 3 (ipykernel)",
   "language": "python",
   "name": "python3"
  },
  "language_info": {
   "codemirror_mode": {
    "name": "ipython",
    "version": 3
   },
   "file_extension": ".py",
   "mimetype": "text/x-python",
   "name": "python",
   "nbconvert_exporter": "python",
   "pygments_lexer": "ipython3",
   "version": "3.9.13"
  }
 },
 "nbformat": 4,
 "nbformat_minor": 5
}
