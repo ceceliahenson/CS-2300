{
 "cells": [
  {
   "cell_type": "markdown",
   "metadata": {
    "id": "TGH7ZFGDcLaK"
   },
   "source": [
    "# k-Means Clustering\n",
    "\n",
    "### Cecelia Henson"
   ]
  },
  {
   "cell_type": "markdown",
   "metadata": {
    "id": "bvYN-S9-cLaL"
   },
   "source": [
    "Here we will explore a class of unsupervised machine learning models: clustering algorithms.\n",
    "Clustering algorithms seek to learn, from the properties of the data, an optimal division or discrete labeling of groups of points.\n",
    "\n",
    "Many clustering algorithms are available in Scikit-Learn and elsewhere, but perhaps the simplest to understand is an algorithm known as *k-means clustering*, which is implemented in ``sklearn.cluster.KMeans``.\n",
    "\n",
    "We begin with some imports:"
   ]
  },
  {
   "cell_type": "code",
   "execution_count": 1,
   "metadata": {
    "id": "azl5DyDzcLaL"
   },
   "outputs": [],
   "source": [
    "%matplotlib inline\n",
    "import matplotlib.pyplot as plt\n",
    "import seaborn as sns; sns.set()  # for plot styling\n",
    "import numpy as np\n",
    "import pandas as pd\n",
    "from scipy.spatial.distance import cdist\n",
    "from sklearn.cluster import KMeans\n",
    "import itertools\n",
    "from sklearn.metrics import silhouette_score, silhouette_samples\n",
    "from sklearn import preprocessing\n",
    "from sklearn.preprocessing import StandardScaler"
   ]
  },
  {
   "cell_type": "markdown",
   "metadata": {},
   "source": [
    "## Excercise 1: \n",
    "Import the Candy data and show the first 10 rows.  Write a dataset description based on the information provided.  "
   ]
  },
  {
   "cell_type": "code",
   "execution_count": null,
   "metadata": {},
   "outputs": [],
   "source": [
    "df = pd.read_csv(\"candy-data.csv\",  sep= ',' , encoding = 'utf8')\n",
    "df.head(10)"
   ]
  },
  {
   "cell_type": "markdown",
   "metadata": {},
   "source": [
    "## Dataset Description\n",
    "This data set describes the features of candies and the sugar, price, and win percent. This data was provided by Dr Riley"
   ]
  },
  {
   "cell_type": "markdown",
   "metadata": {},
   "source": [
    "## Exercise 2:\n",
    "\n",
    "Create a scatter plot comparing the price percent and win percent.  Write a few sentences in the reflection below that describes what you observe (are there any obvious groups?).  "
   ]
  },
  {
   "cell_type": "code",
   "execution_count": null,
   "metadata": {},
   "outputs": [],
   "source": [
    "ax1 = df.plot.scatter(x='pricepercent', y='winpercent', c='purple')"
   ]
  },
  {
   "cell_type": "markdown",
   "metadata": {},
   "source": [
    "### Reflection\n",
    "From the plot of the win percent and price percent it shows that the lower the price percent the more clustered win percent becomes because it is a more financially available the candy is. To me there are four distinct vertical groups betweeen 0 - 0.2, 0.2-0.4, 0.4 - 0.6 and 0.6-1.0"
   ]
  },
  {
   "cell_type": "markdown",
   "metadata": {},
   "source": [
    "## Exercise 3: \n",
    "In the following cell, convert the dataframe into a 2D numpy array called ``X`` that only contains numerical data by finding the non-numerical classes and encoding them with numbers. Hint: you can use ``get_dummies`` to make this easier: https://pandas.pydata.org/docs/reference/api/pandas.get_dummies.html"
   ]
  },
  {
   "cell_type": "code",
   "execution_count": null,
   "metadata": {},
   "outputs": [],
   "source": [
    "X = np.array(pd.get_dummies(df, columns = ['competitorname']))\n",
    "#df1.head(20)\n",
    "print(X)"
   ]
  },
  {
   "cell_type": "markdown",
   "metadata": {
    "id": "1nvDhRnxcLaR"
   },
   "source": [
    "The following code will create a kMeans classifier using the data in ``X``.  Run this cell, and feel free to come back to experiment with different values of k.  You should not need to modify this cell if you completed the previous cell as expected.  "
   ]
  },
  {
   "cell_type": "code",
   "execution_count": null,
   "metadata": {
    "id": "fyurX4_bcLaS"
   },
   "outputs": [],
   "source": [
    "kmeans = KMeans(n_clusters=2)\n",
    "kmeans.fit(X)\n",
    "y_kmeans = kmeans.predict(X)\n",
    "print(y_kmeans)"
   ]
  },
  {
   "cell_type": "markdown",
   "metadata": {
    "id": "1dm_iu6VcLaT"
   },
   "source": [
    "Let's visualize the results by plotting the data colored by these labels.  You should not need to modify this code.  \n",
    "\n",
    "We will also plot the cluster centers in yellow as determined by the *k*-means estimator:"
   ]
  },
  {
   "cell_type": "code",
   "execution_count": null,
   "metadata": {
    "id": "pzHj0XftcLaU",
    "outputId": "e32b78f0-7ac9-4b46-de97-83dd0f535ce5"
   },
   "outputs": [],
   "source": [
    "plt.scatter(X[:, 10], X[:, 11], c=y_kmeans, s=50)\n",
    "\n",
    "centers = kmeans.cluster_centers_\n",
    "plt.scatter(centers[:, 10], centers[:, 11], c='yellow', s=200, alpha=0.5);"
   ]
  },
  {
   "cell_type": "markdown",
   "metadata": {},
   "source": [
    "## Exercise 4: \n",
    "This clustering isn't necessarily what you would expect, right?  This is most likely due to scaling bias in the distance calculation.  To address this, we need to scale the axes.  In the following cell, scale values using ``sklearn.preprocessing StandardScaler`` https://scikit-learn.org/stable/modules/preprocessing.html.  You should re-do the clustering and plot the results to compare them to what you generated earlier.  \n",
    "\n",
    "You should write a few statements in the reflection below about the effect of scaling (you should notice something).  Write a short statement how the ``StandardScaler`` is different from ``scale()`` https://scikit-learn.org/stable/modules/generated/sklearn.preprocessing.scale.html and what advatages it offers.  "
   ]
  },
  {
   "cell_type": "code",
   "execution_count": null,
   "metadata": {},
   "outputs": [],
   "source": [
    "kmeans = KMeans(n_clusters=2)\n",
    "\n",
    "scaler = preprocessing.StandardScaler()\n",
    "X_scaled = scaler.fit_transform(X)\n",
    "kmeans.fit(X_scaled)\n",
    "y_kmeans = kmeans.fit_predict(X_scaled)"
   ]
  },
  {
   "cell_type": "code",
   "execution_count": null,
   "metadata": {},
   "outputs": [],
   "source": [
    "plt.scatter(X_scaled[:, 10], X_scaled[:, 11], c=y_kmeans, s=50)\n",
    "\n",
    "centers = kmeans.cluster_centers_\n",
    "plt.scatter(centers[:, 10], centers[:, 11], c='yellow', s=200, alpha=0.5);"
   ]
  },
  {
   "cell_type": "markdown",
   "metadata": {},
   "source": [
    "### Reflection \n",
    "Did not need to do per Dr.Riley"
   ]
  },
  {
   "cell_type": "markdown",
   "metadata": {},
   "source": [
    "## Exercise 5: \n",
    "Try three other k values to see how KMeans clusters the data.  Experiment and plot a comparison between two other variables as well.  Document your experiments and write a short description in the reflection section below of what you discovered and whether clusters were more distinct."
   ]
  },
  {
   "cell_type": "markdown",
   "metadata": {},
   "source": [
    "K = 11"
   ]
  },
  {
   "cell_type": "code",
   "execution_count": null,
   "metadata": {},
   "outputs": [],
   "source": [
    "X = np.array(pd.get_dummies(df, columns = ['competitorname']))\n",
    "\n",
    "kmeans2 = KMeans(n_clusters=11)\n",
    "\n",
    "scaler = preprocessing.StandardScaler()\n",
    "X_scaled = scaler.fit_transform(X)\n",
    "kmeans2.fit(X_scaled)\n",
    "y_kmeans = kmeans2.fit_predict(X_scaled)\n",
    "\n",
    "plt.scatter(X_scaled[:, 10], X_scaled[:, 11], c=y_kmeans, s=50)\n",
    "\n",
    "centers = kmeans2.cluster_centers_\n",
    "plt.scatter(centers[:, 10], centers[:, 11], c='yellow', s=200, alpha=0.5);"
   ]
  },
  {
   "cell_type": "markdown",
   "metadata": {},
   "source": [
    "K = 5"
   ]
  },
  {
   "cell_type": "code",
   "execution_count": null,
   "metadata": {},
   "outputs": [],
   "source": [
    "kmeans3 = KMeans(n_clusters=5)\n",
    "\n",
    "scaler = preprocessing.StandardScaler()\n",
    "X_scaled = scaler.fit_transform(X)\n",
    "kmeans3.fit(X_scaled)\n",
    "y_kmeans = kmeans3.fit_predict(X_scaled)\n",
    "\n",
    "plt.scatter(X_scaled[:, 10], X_scaled[:, 11], c=y_kmeans, s=50)\n",
    "\n",
    "centers = kmeans3.cluster_centers_\n",
    "plt.scatter(centers[:, 10], centers[:, 11], c='yellow', s=200, alpha=0.5);"
   ]
  },
  {
   "cell_type": "markdown",
   "metadata": {},
   "source": [
    "K = 3"
   ]
  },
  {
   "cell_type": "code",
   "execution_count": null,
   "metadata": {},
   "outputs": [],
   "source": [
    "kmeans4 = KMeans(n_clusters=3)\n",
    "\n",
    "scaler = preprocessing.StandardScaler()\n",
    "X_scaled = scaler.fit_transform(X)\n",
    "kmeans4.fit(X_scaled)\n",
    "y_kmeans = kmeans4.fit_predict(X_scaled)\n",
    "\n",
    "plt.scatter(X_scaled[:, 10], X_scaled[:, 11], c=y_kmeans, s=50)\n",
    "\n",
    "centers = kmeans4.cluster_centers_\n",
    "plt.scatter(centers[:, 10], centers[:, 11], c='yellow', s=200, alpha=0.5);"
   ]
  },
  {
   "cell_type": "markdown",
   "metadata": {},
   "source": [
    "### Reflection\n",
    "When changing the k value to a higher number of 11 the clusters are more randomly spread out because there isn't that many close groupings. When changing the k value to one step above 2 like k = 3, it gouped together the lower values on the negative axis together as one cluster and it seems like the outliers were put in the black and red."
   ]
  },
  {
   "cell_type": "markdown",
   "metadata": {},
   "source": [
    "## Exercise 6: \n",
    "Try changing the features you view in the plot to see how different features are separated. Write a short reflection on what you see in your experiments.  "
   ]
  },
  {
   "cell_type": "markdown",
   "metadata": {},
   "source": [
    "PLOT OF PICE PERCENT AND SUGAR PERCENT"
   ]
  },
  {
   "cell_type": "code",
   "execution_count": null,
   "metadata": {},
   "outputs": [],
   "source": [
    "ax1 = df.plot.scatter(x='sugarpercent', y='pricepercent', c='purple')\n"
   ]
  },
  {
   "cell_type": "markdown",
   "metadata": {},
   "source": [
    "kMeans without scale"
   ]
  },
  {
   "cell_type": "code",
   "execution_count": null,
   "metadata": {},
   "outputs": [],
   "source": [
    "X = np.array(df[[\"sugarpercent\", \"pricepercent\"]])\n",
    "kmeans = KMeans(n_clusters=2)\n",
    "kmeans.fit(X)\n",
    "y_kmeans = kmeans.predict(X)\n",
    "print(y_kmeans)\n",
    "\"\"\"\n",
    "kmeans = KMeans(n_clusters=3)\n",
    "# use inverse scale to get it back the orignial x\n",
    "scaler = preprocessing.StandardScaler()\n",
    "#X_scaled = scaler.fit_transform(X)\n",
    "#X = scaler.inverse_transform(X_scaled)\n",
    "kmeans.fit(X)\n",
    "y_kmeans = kmeans.fit_predict(X)\n",
    "\"\"\"\n",
    "\n",
    "\n",
    "plt.scatter(X[:, 0], X[:, 1], c=y_kmeans, s=50)\n",
    "\n",
    "centers = kmeans.cluster_centers_\n",
    "plt.scatter(centers[:, 0], centers[:, 1], c='yellow', s=200, alpha=0.5);"
   ]
  },
  {
   "cell_type": "markdown",
   "metadata": {},
   "source": [
    "kMeans scaled"
   ]
  },
  {
   "cell_type": "code",
   "execution_count": null,
   "metadata": {},
   "outputs": [],
   "source": [
    "kmeans = KMeans(n_clusters=2)\n",
    "# use inverse scale to get it back the orignial x\n",
    "scaler = preprocessing.StandardScaler()\n",
    "X_scaled = scaler.fit_transform(X)\n",
    "kmeans.fit(X_scaled)\n",
    "y_kmeans = kmeans.fit_predict(X_scaled)\n",
    "print(y_kmeans)\n",
    "\n",
    "plt.scatter(X_scaled[:, 0], X_scaled[:, 1], c=y_kmeans, s=50)\n",
    "\n",
    "centers = kmeans.cluster_centers_\n",
    "plt.scatter(centers[:, 0], centers[:, 1], c='yellow', s=200, alpha=0.5);"
   ]
  },
  {
   "cell_type": "markdown",
   "metadata": {},
   "source": [
    "kMeans inversed back"
   ]
  },
  {
   "cell_type": "code",
   "execution_count": null,
   "metadata": {},
   "outputs": [],
   "source": [
    "kmeans = KMeans(n_clusters=2)\n",
    "# use inverse scale to get it back the orignial x\n",
    "scaler = preprocessing.StandardScaler()\n",
    "X_scaled = scaler.fit_transform(X)\n",
    "X_not = scaler.inverse_transform(X_scaled)\n",
    "\n",
    "kmeans.fit(X_not)\n",
    "y_kmeans = kmeans.fit_predict(X_not)\n",
    "print(y_kmeans)\n",
    "plt.scatter(X_not[:, 0], X_not[:, 1], c=y_kmeans, s=50)\n",
    "\n",
    "centers = kmeans.cluster_centers_\n",
    "plt.scatter(centers[:, 0], centers[:, 1], c='yellow', s=200, alpha=0.5);"
   ]
  },
  {
   "cell_type": "markdown",
   "metadata": {},
   "source": [
    "### Reflection\n",
    "I made my features comparing the sugar percent and the price percent there seems to be two distinct groups of data where the light tan shows that the higher the sugar content the higher the price percent was and that data is a little bit more spread out but still together. On the other hand the data that is more clustered together closely is the lower price percent and a lower sugar content, there are a lot of cheap sugar free candies out there that could be making this occur."
   ]
  },
  {
   "cell_type": "markdown",
   "metadata": {},
   "source": [
    "If we look at the results, it is clear that the dominant factor for clustering is the win percentage.  \n",
    "\n",
    "## Exercise 7: \n",
    "Scale the percentage down to the same range as the other features using a numpy vectorized single line statement.  Then re-run the clustering to see what affect that has.  You should copy/paste the cluster code from above so you have a duplicated experiment here to make a clean comparison.  Write a short reflection on the effect.  \n",
    "\n",
    "https://stackoverflow.com/questions/58719545/standardization-of-an-numpy-array"
   ]
  },
  {
   "cell_type": "markdown",
   "metadata": {},
   "source": [
    "Previous "
   ]
  },
  {
   "cell_type": "code",
   "execution_count": null,
   "metadata": {},
   "outputs": [],
   "source": [
    "plt.scatter(X_scaled[:, 10], X_scaled[:, 11], c=y_kmeans, s=50)\n",
    "\n",
    "centers = kmeans.cluster_centers_\n",
    "plt.scatter(centers[:, 10], centers[:, 11], c='yellow', s=200, alpha=0.5);"
   ]
  },
  {
   "cell_type": "markdown",
   "metadata": {},
   "source": [
    "New experiment scaling"
   ]
  },
  {
   "cell_type": "code",
   "execution_count": null,
   "metadata": {},
   "outputs": [],
   "source": [
    "X = np.array(pd.get_dummies(df, columns = ['competitorname']))\n",
    "kmeans = KMeans(n_clusters=2)\n",
    "\n",
    "\n",
    "X_scaled = (X - np.mean(X, axis=0))/np.std(X, axis=0)\n",
    "kmeans.fit(X_scaled)\n",
    "y_kmeans = kmeans.fit_predict(X_scaled)\n",
    "\n",
    "plt.scatter(X_scaled[:, 10], X_scaled[:, 11], c=y_kmeans, s=50)\n",
    "\n",
    "centers = kmeans.cluster_centers_\n",
    "plt.scatter(centers[:, 10], centers[:, 11], c='yellow', s=200, alpha=0.5);"
   ]
  },
  {
   "cell_type": "markdown",
   "metadata": {},
   "source": [
    "### Reflection\n",
    "The graphs looks the same when the data is running with two clusters because with the experiment it is deviding by the X and scaling itself just like it did above with the fit_transform resulting in the same thing."
   ]
  },
  {
   "cell_type": "markdown",
   "metadata": {},
   "source": [
    "## Exercise 8: \n",
    "To evaluate the \"quality\" of clusters, we can look at the \"within cluster sum of squares\" or inertia.  It is a measure of how coherent the clusters are.  We can look at a variety of k-values to see how the inertia changes for different k-values.  This is not a perfect measure (it is subject to several types of biases), but it can be used to compare different k-values.  \n",
    "\n",
    "To use the \"Elbow Method\" you want to find an \"elbow\" where there is a distinct change in the plot of different k-values.  It is not always very obvious, but this describes what to look for: https://www.geeksforgeeks.org/elbow-method-for-optimal-value-of-k-in-kmeans/ \n",
    "\n",
    "Plot the results using the elbow method for a range of cluster sizes in the following cell.  Calculate the silhouette score and report which k-value is \"best\" from these results in the reflection below.  Make sure you justify your argument.  "
   ]
  },
  {
   "cell_type": "code",
   "execution_count": null,
   "metadata": {},
   "outputs": [],
   "source": [
    "distortions = []\n",
    "inertias = []\n",
    "mapping1 = {}\n",
    "mapping2 = {}\n",
    "K = range(1, 15)\n",
    "  \n",
    "for k in K:\n",
    "    # Building and fitting the model\n",
    "    kmeanModel = KMeans(n_clusters=k).fit(X)\n",
    "    kmeanModel.fit(X)\n",
    "  \n",
    "    distortions.append(sum(np.min(cdist(X, kmeanModel.cluster_centers_,\n",
    "                                        'euclidean'), axis=1)) / X.shape[0])\n",
    "    inertias.append(kmeanModel.inertia_)\n",
    "  \n",
    "    mapping1[k] = sum(np.min(cdist(X, kmeanModel.cluster_centers_,\n",
    "                                   'euclidean'), axis=1)) / X.shape[0]\n",
    "    mapping2[k] = kmeanModel.inertia_"
   ]
  },
  {
   "cell_type": "code",
   "execution_count": null,
   "metadata": {},
   "outputs": [],
   "source": [
    "#for key, val in mapping1.items():\n",
    "#    print(f'{key} : {val}')\n",
    "    \n",
    "for key, val in mapping2.items():\n",
    "    print(f'{key} : {val}')    \n"
   ]
  },
  {
   "cell_type": "code",
   "execution_count": null,
   "metadata": {},
   "outputs": [],
   "source": [
    "'''\n",
    "plt.plot(K, distortions, 'bx-')\n",
    "plt.xlabel('Values of K')\n",
    "plt.ylabel('Distortion')\n",
    "plt.title('The Elbow Method using Distortion')\n",
    "plt.show()\n",
    "'''\n",
    "plt.plot(K, inertias, 'bx-')\n",
    "plt.xlabel('Values of K')\n",
    "plt.ylabel('Inertia')\n",
    "plt.title('The Elbow Method using Inertia')\n",
    "plt.show()"
   ]
  },
  {
   "cell_type": "code",
   "execution_count": null,
   "metadata": {},
   "outputs": [],
   "source": [
    "score = silhouette_score(X, kmeans.labels_, metric='euclidean')\n",
    "print(score)\n",
    "#\n",
    "# Print the score\n",
    "#\n",
    "print('Silhouetter Score: %.3f' % score)\n"
   ]
  },
  {
   "cell_type": "markdown",
   "metadata": {},
   "source": [
    "Scaled Data with 2 Clusters "
   ]
  },
  {
   "cell_type": "code",
   "execution_count": null,
   "metadata": {},
   "outputs": [],
   "source": [
    "X = np.array(pd.get_dummies(df, columns = ['competitorname']))\n",
    "kmeans = KMeans(n_clusters=3)\n",
    "\n",
    "scaler = preprocessing.StandardScaler()\n",
    "X_scaled = scaler.fit_transform(X)\n",
    "kmeans.fit(X_scaled)\n",
    "y_kmeans = kmeans.fit_predict(X_scaled)\n",
    "plt.scatter(X_scaled[:, 10], X_scaled[:, 11], c=y_kmeans, s=50)\n",
    "\n",
    "centers = kmeans.cluster_centers_\n",
    "plt.scatter(centers[:, 10], centers[:, 11], c='yellow', s=200, alpha=0.5);"
   ]
  },
  {
   "cell_type": "code",
   "execution_count": null,
   "metadata": {},
   "outputs": [],
   "source": [
    "kmeans = KMeans(n_clusters=2)\n",
    "kmeans.fit(X)\n",
    "y_kmeans = kmeans.predict(X)\n",
    "print(y_kmeans)\n",
    "plt.scatter(X[:, 10], X[:, 11], c=y_kmeans, s=50)\n",
    "\n",
    "centers = kmeans.cluster_centers_\n",
    "plt.scatter(centers[:, 10], centers[:, 11], c='yellow', s=200, alpha=0.5);"
   ]
  },
  {
   "cell_type": "code",
   "execution_count": null,
   "metadata": {},
   "outputs": [],
   "source": [
    "kmeans = KMeans(n_clusters=3)\n",
    "kmeans.fit(X)\n",
    "y_kmeans = kmeans.predict(X)\n",
    "print(y_kmeans)\n",
    "plt.scatter(X[:, 10], X[:, 11], c=y_kmeans, s=50)\n",
    "\n",
    "centers = kmeans.cluster_centers_\n",
    "plt.scatter(centers[:, 10], centers[:, 11], c='yellow', s=200, alpha=0.5);"
   ]
  },
  {
   "cell_type": "markdown",
   "metadata": {},
   "source": [
    "### Reflection\n",
    "\n",
    "I think the best K value is 2 with scaled and a 3 K value for non scaled data because with non scaled shows three defined groups with a line spliting them at about 45 and about 61. While with the scaled data at a k value of 2 has a split between the two groups at 50 whereas 3 the groupings aren't as clear.\n",
    "The silloute score is 0.452"
   ]
  },
  {
   "cell_type": "markdown",
   "metadata": {},
   "source": [
    "## Exercise 9\n",
    "\n",
    "Use kMeans to import and cluster the Milwaukee Home sales dataset using the skills you learned above.  You should not need to re-run any cells above to make your code work, so all of your implementation should be contained in the subsequent cell(s).  \n",
    "\n",
    "Follow these steps to complete this portion.\n",
    "\n",
    "1. Import \n",
    "2. Convert some categorical columns (of your choosing) to numerical, remove any data that has NaNs.\n",
    "3. Scale values using ``sklearn.preprocessing StandardScaler`` https://scikit-learn.org/stable/modules/preprocessing.html\n",
    "4. Determine a good k value using the elbow method\n",
    "5. Build kMeans model for the value of k you found\n",
    "6. Plot the clusters for the specific clustering of k you built, make sure you plot the \"inverted\" values, not the scaled values.  Your plot should have appropriate labels on the axes and a color legend.  \n",
    "7. Update the features you picked from the original dataset and repeat 2-6\n",
    "8. Describe what you learned from the analysis about the data.  What do the clusters seem to represent?  "
   ]
  },
  {
   "cell_type": "code",
   "execution_count": 4,
   "metadata": {},
   "outputs": [
    {
     "data": {
      "text/html": [
       "<div>\n",
       "<style scoped>\n",
       "    .dataframe tbody tr th:only-of-type {\n",
       "        vertical-align: middle;\n",
       "    }\n",
       "\n",
       "    .dataframe tbody tr th {\n",
       "        vertical-align: top;\n",
       "    }\n",
       "\n",
       "    .dataframe thead th {\n",
       "        text-align: right;\n",
       "    }\n",
       "</style>\n",
       "<table border=\"1\" class=\"dataframe\">\n",
       "  <thead>\n",
       "    <tr style=\"text-align: right;\">\n",
       "      <th></th>\n",
       "      <th>PropertyID</th>\n",
       "      <th>PropType</th>\n",
       "      <th>taxkey</th>\n",
       "      <th>Address</th>\n",
       "      <th>CondoProject</th>\n",
       "      <th>District</th>\n",
       "      <th>nbhd</th>\n",
       "      <th>Style</th>\n",
       "      <th>Extwall</th>\n",
       "      <th>Stories</th>\n",
       "      <th>Year_Built</th>\n",
       "      <th>Rooms</th>\n",
       "      <th>FinishedSqft</th>\n",
       "      <th>Units</th>\n",
       "      <th>Bdrms</th>\n",
       "      <th>Fbath</th>\n",
       "      <th>Hbath</th>\n",
       "      <th>Lotsize</th>\n",
       "      <th>Sale_date</th>\n",
       "      <th>Sale_price</th>\n",
       "    </tr>\n",
       "  </thead>\n",
       "  <tbody>\n",
       "    <tr>\n",
       "      <th>0</th>\n",
       "      <td>868088</td>\n",
       "      <td>Commercial</td>\n",
       "      <td>30171000</td>\n",
       "      <td>9400-9408 N 107TH ST</td>\n",
       "      <td>NaN</td>\n",
       "      <td>9.0</td>\n",
       "      <td>6202.0</td>\n",
       "      <td>Office Building - 1 Story</td>\n",
       "      <td>Concrete Block</td>\n",
       "      <td>1.0</td>\n",
       "      <td>1973.0</td>\n",
       "      <td>NaN</td>\n",
       "      <td>12,960</td>\n",
       "      <td>6</td>\n",
       "      <td>NaN</td>\n",
       "      <td>0</td>\n",
       "      <td>0</td>\n",
       "      <td>178,160</td>\n",
       "      <td>3/31/2021</td>\n",
       "      <td>$450,000</td>\n",
       "    </tr>\n",
       "    <tr>\n",
       "      <th>1</th>\n",
       "      <td>875720</td>\n",
       "      <td>Residential</td>\n",
       "      <td>40012000</td>\n",
       "      <td>9231 W COUNTY LINE RD</td>\n",
       "      <td>NaN</td>\n",
       "      <td>9.0</td>\n",
       "      <td>40.0</td>\n",
       "      <td>Ranch</td>\n",
       "      <td>Aluminum/Vinyl</td>\n",
       "      <td>1.0</td>\n",
       "      <td>1952.0</td>\n",
       "      <td>4.0</td>\n",
       "      <td>840</td>\n",
       "      <td>1</td>\n",
       "      <td>2.0</td>\n",
       "      <td>1</td>\n",
       "      <td>0</td>\n",
       "      <td>19,405</td>\n",
       "      <td>9/30/2021</td>\n",
       "      <td>$180,000</td>\n",
       "    </tr>\n",
       "    <tr>\n",
       "      <th>2</th>\n",
       "      <td>878211</td>\n",
       "      <td>Residential</td>\n",
       "      <td>40067000</td>\n",
       "      <td>9481 N MICHAEL CT</td>\n",
       "      <td>NaN</td>\n",
       "      <td>9.0</td>\n",
       "      <td>40.0</td>\n",
       "      <td>Colonial</td>\n",
       "      <td>Fiber Cement/Hardiplank</td>\n",
       "      <td>2.0</td>\n",
       "      <td>2006.0</td>\n",
       "      <td>8.0</td>\n",
       "      <td>2,000</td>\n",
       "      <td>1</td>\n",
       "      <td>3.0</td>\n",
       "      <td>2</td>\n",
       "      <td>1</td>\n",
       "      <td>10,607</td>\n",
       "      <td>10/15/2021</td>\n",
       "      <td>$339,900</td>\n",
       "    </tr>\n",
       "    <tr>\n",
       "      <th>3</th>\n",
       "      <td>875302</td>\n",
       "      <td>Residential</td>\n",
       "      <td>40074000</td>\n",
       "      <td>9579 N MICHAEL CT</td>\n",
       "      <td>NaN</td>\n",
       "      <td>9.0</td>\n",
       "      <td>40.0</td>\n",
       "      <td>Ranch</td>\n",
       "      <td>Fiber Cement/Hardiplank</td>\n",
       "      <td>1.0</td>\n",
       "      <td>2006.0</td>\n",
       "      <td>8.0</td>\n",
       "      <td>2,115</td>\n",
       "      <td>1</td>\n",
       "      <td>3.0</td>\n",
       "      <td>2</td>\n",
       "      <td>1</td>\n",
       "      <td>10,607</td>\n",
       "      <td>8/17/2021</td>\n",
       "      <td>$379,900</td>\n",
       "    </tr>\n",
       "    <tr>\n",
       "      <th>4</th>\n",
       "      <td>865369</td>\n",
       "      <td>Residential</td>\n",
       "      <td>50008000</td>\n",
       "      <td>9239 N BURBANK AV</td>\n",
       "      <td>NaN</td>\n",
       "      <td>9.0</td>\n",
       "      <td>40.0</td>\n",
       "      <td>Ranch</td>\n",
       "      <td>Aluminum/Vinyl</td>\n",
       "      <td>1.0</td>\n",
       "      <td>1987.0</td>\n",
       "      <td>5.0</td>\n",
       "      <td>1,288</td>\n",
       "      <td>1</td>\n",
       "      <td>3.0</td>\n",
       "      <td>2</td>\n",
       "      <td>0</td>\n",
       "      <td>7,670</td>\n",
       "      <td>2/4/2021</td>\n",
       "      <td>$195,000</td>\n",
       "    </tr>\n",
       "    <tr>\n",
       "      <th>5</th>\n",
       "      <td>870943</td>\n",
       "      <td>Residential</td>\n",
       "      <td>50043000</td>\n",
       "      <td>9328 N JOYCE AV</td>\n",
       "      <td>NaN</td>\n",
       "      <td>9.0</td>\n",
       "      <td>40.0</td>\n",
       "      <td>Ranch</td>\n",
       "      <td>Aluminum/Vinyl</td>\n",
       "      <td>1.0</td>\n",
       "      <td>1980.0</td>\n",
       "      <td>6.0</td>\n",
       "      <td>1,505</td>\n",
       "      <td>1</td>\n",
       "      <td>3.0</td>\n",
       "      <td>2</td>\n",
       "      <td>0</td>\n",
       "      <td>8,878</td>\n",
       "      <td>5/26/2021</td>\n",
       "      <td>$213,000</td>\n",
       "    </tr>\n",
       "    <tr>\n",
       "      <th>6</th>\n",
       "      <td>872068</td>\n",
       "      <td>Residential</td>\n",
       "      <td>50065000</td>\n",
       "      <td>9267 N BURBANK AV</td>\n",
       "      <td>NaN</td>\n",
       "      <td>9.0</td>\n",
       "      <td>40.0</td>\n",
       "      <td>Ranch</td>\n",
       "      <td>Aluminum/Vinyl</td>\n",
       "      <td>1.0</td>\n",
       "      <td>1986.0</td>\n",
       "      <td>5.0</td>\n",
       "      <td>1,196</td>\n",
       "      <td>1</td>\n",
       "      <td>3.0</td>\n",
       "      <td>1</td>\n",
       "      <td>1</td>\n",
       "      <td>10,090</td>\n",
       "      <td>6/25/2021</td>\n",
       "      <td>$170,000</td>\n",
       "    </tr>\n",
       "    <tr>\n",
       "      <th>7</th>\n",
       "      <td>870347</td>\n",
       "      <td>Residential</td>\n",
       "      <td>50110000</td>\n",
       "      <td>8112 W GLENBROOK RD</td>\n",
       "      <td>NaN</td>\n",
       "      <td>9.0</td>\n",
       "      <td>40.0</td>\n",
       "      <td>Ranch</td>\n",
       "      <td>Prem Wood</td>\n",
       "      <td>1.0</td>\n",
       "      <td>1990.0</td>\n",
       "      <td>5.0</td>\n",
       "      <td>1,246</td>\n",
       "      <td>1</td>\n",
       "      <td>3.0</td>\n",
       "      <td>1</td>\n",
       "      <td>1</td>\n",
       "      <td>7,200</td>\n",
       "      <td>5/13/2021</td>\n",
       "      <td>$235,000</td>\n",
       "    </tr>\n",
       "    <tr>\n",
       "      <th>8</th>\n",
       "      <td>874897</td>\n",
       "      <td>Residential</td>\n",
       "      <td>50122000</td>\n",
       "      <td>7926 W GLENBROOK RD</td>\n",
       "      <td>NaN</td>\n",
       "      <td>9.0</td>\n",
       "      <td>40.0</td>\n",
       "      <td>Colonial</td>\n",
       "      <td>Aluminum/Vinyl</td>\n",
       "      <td>2.0</td>\n",
       "      <td>2006.0</td>\n",
       "      <td>8.0</td>\n",
       "      <td>2,279</td>\n",
       "      <td>1</td>\n",
       "      <td>4.0</td>\n",
       "      <td>2</td>\n",
       "      <td>1</td>\n",
       "      <td>15,938</td>\n",
       "      <td>7/26/2021</td>\n",
       "      <td>$370,000</td>\n",
       "    </tr>\n",
       "    <tr>\n",
       "      <th>9</th>\n",
       "      <td>868845</td>\n",
       "      <td>Residential</td>\n",
       "      <td>50153000</td>\n",
       "      <td>8740 W FAIRY CHASM DR</td>\n",
       "      <td>NaN</td>\n",
       "      <td>9.0</td>\n",
       "      <td>40.0</td>\n",
       "      <td>Ranch</td>\n",
       "      <td>Aluminum/Vinyl</td>\n",
       "      <td>1.0</td>\n",
       "      <td>1951.0</td>\n",
       "      <td>5.0</td>\n",
       "      <td>1,160</td>\n",
       "      <td>1</td>\n",
       "      <td>3.0</td>\n",
       "      <td>2</td>\n",
       "      <td>0</td>\n",
       "      <td>8,400</td>\n",
       "      <td>4/23/2021</td>\n",
       "      <td>$133,000</td>\n",
       "    </tr>\n",
       "  </tbody>\n",
       "</table>\n",
       "</div>"
      ],
      "text/plain": [
       "   PropertyID     PropType    taxkey                Address CondoProject  \\\n",
       "0      868088   Commercial  30171000   9400-9408 N 107TH ST          NaN   \n",
       "1      875720  Residential  40012000  9231 W COUNTY LINE RD          NaN   \n",
       "2      878211  Residential  40067000      9481 N MICHAEL CT          NaN   \n",
       "3      875302  Residential  40074000      9579 N MICHAEL CT          NaN   \n",
       "4      865369  Residential  50008000      9239 N BURBANK AV          NaN   \n",
       "5      870943  Residential  50043000        9328 N JOYCE AV          NaN   \n",
       "6      872068  Residential  50065000      9267 N BURBANK AV          NaN   \n",
       "7      870347  Residential  50110000    8112 W GLENBROOK RD          NaN   \n",
       "8      874897  Residential  50122000    7926 W GLENBROOK RD          NaN   \n",
       "9      868845  Residential  50153000  8740 W FAIRY CHASM DR          NaN   \n",
       "\n",
       "   District    nbhd                      Style                  Extwall  \\\n",
       "0       9.0  6202.0  Office Building - 1 Story           Concrete Block   \n",
       "1       9.0    40.0                      Ranch           Aluminum/Vinyl   \n",
       "2       9.0    40.0                   Colonial  Fiber Cement/Hardiplank   \n",
       "3       9.0    40.0                      Ranch  Fiber Cement/Hardiplank   \n",
       "4       9.0    40.0                      Ranch           Aluminum/Vinyl   \n",
       "5       9.0    40.0                      Ranch           Aluminum/Vinyl   \n",
       "6       9.0    40.0                      Ranch           Aluminum/Vinyl   \n",
       "7       9.0    40.0                      Ranch                Prem Wood   \n",
       "8       9.0    40.0                   Colonial           Aluminum/Vinyl   \n",
       "9       9.0    40.0                      Ranch           Aluminum/Vinyl   \n",
       "\n",
       "   Stories  Year_Built  Rooms FinishedSqft  Units  Bdrms  Fbath  Hbath  \\\n",
       "0      1.0      1973.0    NaN       12,960      6    NaN      0      0   \n",
       "1      1.0      1952.0    4.0          840      1    2.0      1      0   \n",
       "2      2.0      2006.0    8.0        2,000      1    3.0      2      1   \n",
       "3      1.0      2006.0    8.0        2,115      1    3.0      2      1   \n",
       "4      1.0      1987.0    5.0        1,288      1    3.0      2      0   \n",
       "5      1.0      1980.0    6.0        1,505      1    3.0      2      0   \n",
       "6      1.0      1986.0    5.0        1,196      1    3.0      1      1   \n",
       "7      1.0      1990.0    5.0        1,246      1    3.0      1      1   \n",
       "8      2.0      2006.0    8.0        2,279      1    4.0      2      1   \n",
       "9      1.0      1951.0    5.0        1,160      1    3.0      2      0   \n",
       "\n",
       "   Lotsize   Sale_date Sale_price  \n",
       "0  178,160   3/31/2021   $450,000  \n",
       "1   19,405   9/30/2021   $180,000  \n",
       "2   10,607  10/15/2021   $339,900  \n",
       "3   10,607   8/17/2021   $379,900  \n",
       "4    7,670    2/4/2021   $195,000  \n",
       "5    8,878   5/26/2021   $213,000  \n",
       "6   10,090   6/25/2021   $170,000  \n",
       "7    7,200   5/13/2021   $235,000  \n",
       "8   15,938   7/26/2021   $370,000  \n",
       "9    8,400   4/23/2021   $133,000  "
      ]
     },
     "execution_count": 4,
     "metadata": {},
     "output_type": "execute_result"
    }
   ],
   "source": [
    "df = pd.read_csv(\"milwaukee-sales-2021.csv\",  sep= ',' , encoding = 'utf8')\n",
    "#df1.isnull().sum()\n",
    "df.head(10)"
   ]
  },
  {
   "cell_type": "markdown",
   "metadata": {},
   "source": [
    "Dropping data "
   ]
  },
  {
   "cell_type": "code",
   "execution_count": 5,
   "metadata": {},
   "outputs": [
    {
     "data": {
      "text/html": [
       "<div>\n",
       "<style scoped>\n",
       "    .dataframe tbody tr th:only-of-type {\n",
       "        vertical-align: middle;\n",
       "    }\n",
       "\n",
       "    .dataframe tbody tr th {\n",
       "        vertical-align: top;\n",
       "    }\n",
       "\n",
       "    .dataframe thead th {\n",
       "        text-align: right;\n",
       "    }\n",
       "</style>\n",
       "<table border=\"1\" class=\"dataframe\">\n",
       "  <thead>\n",
       "    <tr style=\"text-align: right;\">\n",
       "      <th></th>\n",
       "      <th>PropType</th>\n",
       "      <th>District</th>\n",
       "      <th>nbhd</th>\n",
       "      <th>Style</th>\n",
       "      <th>Extwall</th>\n",
       "      <th>Stories</th>\n",
       "      <th>Year_Built</th>\n",
       "      <th>Rooms</th>\n",
       "      <th>FinishedSqft</th>\n",
       "      <th>Units</th>\n",
       "      <th>Bdrms</th>\n",
       "      <th>Fbath</th>\n",
       "      <th>Hbath</th>\n",
       "      <th>Lotsize</th>\n",
       "      <th>Sale_price</th>\n",
       "    </tr>\n",
       "  </thead>\n",
       "  <tbody>\n",
       "    <tr>\n",
       "      <th>1</th>\n",
       "      <td>Residential</td>\n",
       "      <td>9.0</td>\n",
       "      <td>40.0</td>\n",
       "      <td>Ranch</td>\n",
       "      <td>Aluminum/Vinyl</td>\n",
       "      <td>1.0</td>\n",
       "      <td>1952.0</td>\n",
       "      <td>4.0</td>\n",
       "      <td>840</td>\n",
       "      <td>1</td>\n",
       "      <td>2.0</td>\n",
       "      <td>1</td>\n",
       "      <td>0</td>\n",
       "      <td>19,405</td>\n",
       "      <td>$180,000</td>\n",
       "    </tr>\n",
       "    <tr>\n",
       "      <th>2</th>\n",
       "      <td>Residential</td>\n",
       "      <td>9.0</td>\n",
       "      <td>40.0</td>\n",
       "      <td>Colonial</td>\n",
       "      <td>Fiber Cement/Hardiplank</td>\n",
       "      <td>2.0</td>\n",
       "      <td>2006.0</td>\n",
       "      <td>8.0</td>\n",
       "      <td>2,000</td>\n",
       "      <td>1</td>\n",
       "      <td>3.0</td>\n",
       "      <td>2</td>\n",
       "      <td>1</td>\n",
       "      <td>10,607</td>\n",
       "      <td>$339,900</td>\n",
       "    </tr>\n",
       "    <tr>\n",
       "      <th>3</th>\n",
       "      <td>Residential</td>\n",
       "      <td>9.0</td>\n",
       "      <td>40.0</td>\n",
       "      <td>Ranch</td>\n",
       "      <td>Fiber Cement/Hardiplank</td>\n",
       "      <td>1.0</td>\n",
       "      <td>2006.0</td>\n",
       "      <td>8.0</td>\n",
       "      <td>2,115</td>\n",
       "      <td>1</td>\n",
       "      <td>3.0</td>\n",
       "      <td>2</td>\n",
       "      <td>1</td>\n",
       "      <td>10,607</td>\n",
       "      <td>$379,900</td>\n",
       "    </tr>\n",
       "    <tr>\n",
       "      <th>4</th>\n",
       "      <td>Residential</td>\n",
       "      <td>9.0</td>\n",
       "      <td>40.0</td>\n",
       "      <td>Ranch</td>\n",
       "      <td>Aluminum/Vinyl</td>\n",
       "      <td>1.0</td>\n",
       "      <td>1987.0</td>\n",
       "      <td>5.0</td>\n",
       "      <td>1,288</td>\n",
       "      <td>1</td>\n",
       "      <td>3.0</td>\n",
       "      <td>2</td>\n",
       "      <td>0</td>\n",
       "      <td>7,670</td>\n",
       "      <td>$195,000</td>\n",
       "    </tr>\n",
       "    <tr>\n",
       "      <th>5</th>\n",
       "      <td>Residential</td>\n",
       "      <td>9.0</td>\n",
       "      <td>40.0</td>\n",
       "      <td>Ranch</td>\n",
       "      <td>Aluminum/Vinyl</td>\n",
       "      <td>1.0</td>\n",
       "      <td>1980.0</td>\n",
       "      <td>6.0</td>\n",
       "      <td>1,505</td>\n",
       "      <td>1</td>\n",
       "      <td>3.0</td>\n",
       "      <td>2</td>\n",
       "      <td>0</td>\n",
       "      <td>8,878</td>\n",
       "      <td>$213,000</td>\n",
       "    </tr>\n",
       "    <tr>\n",
       "      <th>6</th>\n",
       "      <td>Residential</td>\n",
       "      <td>9.0</td>\n",
       "      <td>40.0</td>\n",
       "      <td>Ranch</td>\n",
       "      <td>Aluminum/Vinyl</td>\n",
       "      <td>1.0</td>\n",
       "      <td>1986.0</td>\n",
       "      <td>5.0</td>\n",
       "      <td>1,196</td>\n",
       "      <td>1</td>\n",
       "      <td>3.0</td>\n",
       "      <td>1</td>\n",
       "      <td>1</td>\n",
       "      <td>10,090</td>\n",
       "      <td>$170,000</td>\n",
       "    </tr>\n",
       "    <tr>\n",
       "      <th>7</th>\n",
       "      <td>Residential</td>\n",
       "      <td>9.0</td>\n",
       "      <td>40.0</td>\n",
       "      <td>Ranch</td>\n",
       "      <td>Prem Wood</td>\n",
       "      <td>1.0</td>\n",
       "      <td>1990.0</td>\n",
       "      <td>5.0</td>\n",
       "      <td>1,246</td>\n",
       "      <td>1</td>\n",
       "      <td>3.0</td>\n",
       "      <td>1</td>\n",
       "      <td>1</td>\n",
       "      <td>7,200</td>\n",
       "      <td>$235,000</td>\n",
       "    </tr>\n",
       "    <tr>\n",
       "      <th>8</th>\n",
       "      <td>Residential</td>\n",
       "      <td>9.0</td>\n",
       "      <td>40.0</td>\n",
       "      <td>Colonial</td>\n",
       "      <td>Aluminum/Vinyl</td>\n",
       "      <td>2.0</td>\n",
       "      <td>2006.0</td>\n",
       "      <td>8.0</td>\n",
       "      <td>2,279</td>\n",
       "      <td>1</td>\n",
       "      <td>4.0</td>\n",
       "      <td>2</td>\n",
       "      <td>1</td>\n",
       "      <td>15,938</td>\n",
       "      <td>$370,000</td>\n",
       "    </tr>\n",
       "    <tr>\n",
       "      <th>9</th>\n",
       "      <td>Residential</td>\n",
       "      <td>9.0</td>\n",
       "      <td>40.0</td>\n",
       "      <td>Ranch</td>\n",
       "      <td>Aluminum/Vinyl</td>\n",
       "      <td>1.0</td>\n",
       "      <td>1951.0</td>\n",
       "      <td>5.0</td>\n",
       "      <td>1,160</td>\n",
       "      <td>1</td>\n",
       "      <td>3.0</td>\n",
       "      <td>2</td>\n",
       "      <td>0</td>\n",
       "      <td>8,400</td>\n",
       "      <td>$133,000</td>\n",
       "    </tr>\n",
       "    <tr>\n",
       "      <th>10</th>\n",
       "      <td>Residential</td>\n",
       "      <td>9.0</td>\n",
       "      <td>40.0</td>\n",
       "      <td>Ranch</td>\n",
       "      <td>Aluminum/Vinyl</td>\n",
       "      <td>1.0</td>\n",
       "      <td>1956.0</td>\n",
       "      <td>5.0</td>\n",
       "      <td>1,215</td>\n",
       "      <td>1</td>\n",
       "      <td>4.0</td>\n",
       "      <td>2</td>\n",
       "      <td>1</td>\n",
       "      <td>9,125</td>\n",
       "      <td>$134,000</td>\n",
       "    </tr>\n",
       "  </tbody>\n",
       "</table>\n",
       "</div>"
      ],
      "text/plain": [
       "       PropType  District  nbhd     Style                  Extwall  Stories  \\\n",
       "1   Residential       9.0  40.0     Ranch           Aluminum/Vinyl      1.0   \n",
       "2   Residential       9.0  40.0  Colonial  Fiber Cement/Hardiplank      2.0   \n",
       "3   Residential       9.0  40.0     Ranch  Fiber Cement/Hardiplank      1.0   \n",
       "4   Residential       9.0  40.0     Ranch           Aluminum/Vinyl      1.0   \n",
       "5   Residential       9.0  40.0     Ranch           Aluminum/Vinyl      1.0   \n",
       "6   Residential       9.0  40.0     Ranch           Aluminum/Vinyl      1.0   \n",
       "7   Residential       9.0  40.0     Ranch                Prem Wood      1.0   \n",
       "8   Residential       9.0  40.0  Colonial           Aluminum/Vinyl      2.0   \n",
       "9   Residential       9.0  40.0     Ranch           Aluminum/Vinyl      1.0   \n",
       "10  Residential       9.0  40.0     Ranch           Aluminum/Vinyl      1.0   \n",
       "\n",
       "    Year_Built  Rooms FinishedSqft  Units  Bdrms  Fbath  Hbath Lotsize  \\\n",
       "1       1952.0    4.0          840      1    2.0      1      0  19,405   \n",
       "2       2006.0    8.0        2,000      1    3.0      2      1  10,607   \n",
       "3       2006.0    8.0        2,115      1    3.0      2      1  10,607   \n",
       "4       1987.0    5.0        1,288      1    3.0      2      0   7,670   \n",
       "5       1980.0    6.0        1,505      1    3.0      2      0   8,878   \n",
       "6       1986.0    5.0        1,196      1    3.0      1      1  10,090   \n",
       "7       1990.0    5.0        1,246      1    3.0      1      1   7,200   \n",
       "8       2006.0    8.0        2,279      1    4.0      2      1  15,938   \n",
       "9       1951.0    5.0        1,160      1    3.0      2      0   8,400   \n",
       "10      1956.0    5.0        1,215      1    4.0      2      1   9,125   \n",
       "\n",
       "   Sale_price  \n",
       "1    $180,000  \n",
       "2    $339,900  \n",
       "3    $379,900  \n",
       "4    $195,000  \n",
       "5    $213,000  \n",
       "6    $170,000  \n",
       "7    $235,000  \n",
       "8    $370,000  \n",
       "9    $133,000  \n",
       "10   $134,000  "
      ]
     },
     "execution_count": 5,
     "metadata": {},
     "output_type": "execute_result"
    }
   ],
   "source": [
    "df1 = df.drop([\"PropertyID\", 'taxkey','CondoProject','Sale_date','Address'], axis='columns')\n",
    "df1 = df1.dropna()\n",
    "df1.head(10)"
   ]
  },
  {
   "cell_type": "code",
   "execution_count": 6,
   "metadata": {},
   "outputs": [
    {
     "name": "stdout",
     "output_type": "stream",
     "text": [
      "[[9.00e+00 4.00e+01 1.00e+00 ... 0.00e+00 0.00e+00 0.00e+00]\n",
      " [9.00e+00 4.00e+01 2.00e+00 ... 0.00e+00 0.00e+00 0.00e+00]\n",
      " [9.00e+00 4.00e+01 1.00e+00 ... 0.00e+00 0.00e+00 0.00e+00]\n",
      " ...\n",
      " [1.30e+01 4.92e+03 1.00e+00 ... 0.00e+00 0.00e+00 0.00e+00]\n",
      " [1.30e+01 4.92e+03 1.00e+00 ... 0.00e+00 0.00e+00 0.00e+00]\n",
      " [1.30e+01 4.92e+03 1.00e+00 ... 0.00e+00 0.00e+00 0.00e+00]]\n"
     ]
    },
    {
     "data": {
      "text/plain": [
       "22479471"
      ]
     },
     "execution_count": 6,
     "metadata": {},
     "output_type": "execute_result"
    }
   ],
   "source": [
    "X = np.array(pd.get_dummies(df1))\n",
    "print(X)\n",
    "X.size"
   ]
  },
  {
   "cell_type": "markdown",
   "metadata": {},
   "source": [
    "Scaling data"
   ]
  },
  {
   "cell_type": "code",
   "execution_count": 7,
   "metadata": {},
   "outputs": [
    {
     "name": "stdout",
     "output_type": "stream",
     "text": [
      "[[ 0.18775657 -1.89243276 -0.79212479 ... -0.03093737 -0.0195609\n",
      "  -0.02766858]\n",
      " [ 0.18775657 -1.89243276  1.44197473 ... -0.03093737 -0.0195609\n",
      "  -0.02766858]\n",
      " [ 0.18775657 -1.89243276 -0.79212479 ... -0.03093737 -0.0195609\n",
      "  -0.02766858]\n",
      " ...\n",
      " [ 1.09744301  1.47472079 -0.79212479 ... -0.03093737 -0.0195609\n",
      "  -0.02766858]\n",
      " [ 1.09744301  1.47472079 -0.79212479 ... -0.03093737 -0.0195609\n",
      "  -0.02766858]\n",
      " [ 1.09744301  1.47472079 -0.79212479 ... -0.03093737 -0.0195609\n",
      "  -0.02766858]]\n"
     ]
    },
    {
     "data": {
      "text/plain": [
       "22479471"
      ]
     },
     "execution_count": 7,
     "metadata": {},
     "output_type": "execute_result"
    }
   ],
   "source": [
    "scaler = preprocessing.StandardScaler()\n",
    "X_scaled = scaler.fit_transform(X)\n",
    "print(X_scaled)\n",
    "X_scaled.size"
   ]
  },
  {
   "cell_type": "markdown",
   "metadata": {},
   "source": [
    "Finding K value "
   ]
  },
  {
   "cell_type": "code",
   "execution_count": 8,
   "metadata": {},
   "outputs": [
    {
     "ename": "KeyboardInterrupt",
     "evalue": "",
     "output_type": "error",
     "traceback": [
      "\u001b[1;31m---------------------------------------------------------------------------\u001b[0m",
      "\u001b[1;31mKeyboardInterrupt\u001b[0m                         Traceback (most recent call last)",
      "\u001b[1;32m~\\AppData\\Local\\Temp\\ipykernel_32704\\3713121675.py\u001b[0m in \u001b[0;36m<module>\u001b[1;34m\u001b[0m\n\u001b[0;32m      7\u001b[0m \u001b[1;32mfor\u001b[0m \u001b[0mk\u001b[0m \u001b[1;32min\u001b[0m \u001b[0mK\u001b[0m\u001b[1;33m:\u001b[0m\u001b[1;33m\u001b[0m\u001b[1;33m\u001b[0m\u001b[0m\n\u001b[0;32m      8\u001b[0m     \u001b[1;31m# Building and fitting the model\u001b[0m\u001b[1;33m\u001b[0m\u001b[1;33m\u001b[0m\u001b[0m\n\u001b[1;32m----> 9\u001b[1;33m     \u001b[0mkmeanModel\u001b[0m \u001b[1;33m=\u001b[0m \u001b[0mKMeans\u001b[0m\u001b[1;33m(\u001b[0m\u001b[0mn_clusters\u001b[0m\u001b[1;33m=\u001b[0m\u001b[0mk\u001b[0m\u001b[1;33m)\u001b[0m\u001b[1;33m.\u001b[0m\u001b[0mfit\u001b[0m\u001b[1;33m(\u001b[0m\u001b[0mX\u001b[0m\u001b[1;33m)\u001b[0m\u001b[1;33m\u001b[0m\u001b[1;33m\u001b[0m\u001b[0m\n\u001b[0m\u001b[0;32m     10\u001b[0m     \u001b[0mkmeanModel\u001b[0m\u001b[1;33m.\u001b[0m\u001b[0mfit\u001b[0m\u001b[1;33m(\u001b[0m\u001b[0mX\u001b[0m\u001b[1;33m)\u001b[0m\u001b[1;33m\u001b[0m\u001b[1;33m\u001b[0m\u001b[0m\n\u001b[0;32m     11\u001b[0m \u001b[1;33m\u001b[0m\u001b[0m\n",
      "\u001b[1;32m~\\Anaconda3\\lib\\site-packages\\sklearn\\cluster\\_kmeans.py\u001b[0m in \u001b[0;36mfit\u001b[1;34m(self, X, y, sample_weight)\u001b[0m\n\u001b[0;32m   1159\u001b[0m             \u001b[0mX_mean\u001b[0m \u001b[1;33m=\u001b[0m \u001b[0mX\u001b[0m\u001b[1;33m.\u001b[0m\u001b[0mmean\u001b[0m\u001b[1;33m(\u001b[0m\u001b[0maxis\u001b[0m\u001b[1;33m=\u001b[0m\u001b[1;36m0\u001b[0m\u001b[1;33m)\u001b[0m\u001b[1;33m\u001b[0m\u001b[1;33m\u001b[0m\u001b[0m\n\u001b[0;32m   1160\u001b[0m             \u001b[1;31m# The copy was already done above\u001b[0m\u001b[1;33m\u001b[0m\u001b[1;33m\u001b[0m\u001b[0m\n\u001b[1;32m-> 1161\u001b[1;33m             \u001b[0mX\u001b[0m \u001b[1;33m-=\u001b[0m \u001b[0mX_mean\u001b[0m\u001b[1;33m\u001b[0m\u001b[1;33m\u001b[0m\u001b[0m\n\u001b[0m\u001b[0;32m   1162\u001b[0m \u001b[1;33m\u001b[0m\u001b[0m\n\u001b[0;32m   1163\u001b[0m             \u001b[1;32mif\u001b[0m \u001b[0mhasattr\u001b[0m\u001b[1;33m(\u001b[0m\u001b[0minit\u001b[0m\u001b[1;33m,\u001b[0m \u001b[1;34m\"__array__\"\u001b[0m\u001b[1;33m)\u001b[0m\u001b[1;33m:\u001b[0m\u001b[1;33m\u001b[0m\u001b[1;33m\u001b[0m\u001b[0m\n",
      "\u001b[1;31mKeyboardInterrupt\u001b[0m: "
     ]
    }
   ],
   "source": [
    "distortions = []\n",
    "inertias = []\n",
    "mapping1 = {}\n",
    "mapping2 = {}\n",
    "K = range(1, 15)\n",
    "  \n",
    "for k in K:\n",
    "    # Building and fitting the model\n",
    "    kmeanModel = KMeans(n_clusters=k).fit(X)\n",
    "    kmeanModel.fit(X)\n",
    "  \n",
    "    distortions.append(sum(np.min(cdist(X, kmeanModel.cluster_centers_,\n",
    "                                        'euclidean'), axis=1)) / X.shape[0])\n",
    "\n",
    "    mapping1[k] = sum(np.min(cdist(X, kmeanModel.cluster_centers_,\n",
    "                                   'euclidean'), axis=1)) / X.shape[0]"
   ]
  },
  {
   "cell_type": "code",
   "execution_count": null,
   "metadata": {},
   "outputs": [],
   "source": [
    "for key, val in mapping1.items():\n",
    "    print(f'{key} : {val}')"
   ]
  },
  {
   "cell_type": "code",
   "execution_count": null,
   "metadata": {},
   "outputs": [],
   "source": [
    "plt.plot(K, distortions, 'bx-')\n",
    "plt.xlabel('Values of K')\n",
    "plt.ylabel('Distortion')\n",
    "plt.title('The Elbow Method using Distortion')\n",
    "plt.show()"
   ]
  },
  {
   "cell_type": "markdown",
   "metadata": {},
   "source": [
    "Kmodel for nbdh and years built "
   ]
  },
  {
   "cell_type": "code",
   "execution_count": 9,
   "metadata": {},
   "outputs": [
    {
     "name": "stdout",
     "output_type": "stream",
     "text": [
      "[2 2 2 ... 1 1 1]\n"
     ]
    }
   ],
   "source": [
    "kmeans = KMeans(n_clusters=5)\n",
    "X_not = scaler.inverse_transform(X_scaled)\n",
    "\n",
    "#kmeans.fit(X_not)\n",
    "y_kmeans = kmeans.fit_predict(X_not)\n",
    "print(y_kmeans)\n"
   ]
  },
  {
   "cell_type": "code",
   "execution_count": 10,
   "metadata": {},
   "outputs": [
    {
     "data": {
      "text/plain": [
       "Text(0, 0.5, 'Year Built')"
      ]
     },
     "execution_count": 10,
     "metadata": {},
     "output_type": "execute_result"
    },
    {
     "data": {
      "image/png": "[encoded data removed]",
      "text/plain": [
       "<Figure size 640x480 with 1 Axes>"
      ]
     },
     "metadata": {},
     "output_type": "display_data"
    }
   ],
   "source": [
    "#nbdh and yr built\n",
    "plt.scatter(X_not[:,1], X_not[:,3], c=y_kmeans, s=50)\n",
    "\n",
    "centers = kmeans.cluster_centers_\n",
    "plt.scatter(centers[:,1], centers[:,3], c='yellow', s=200, alpha=0.5);\n",
    "plt.xlabel(\"Neighborhoods\")\n",
    "plt.ylabel(\"Year Built\")"
   ]
  },
  {
   "cell_type": "markdown",
   "metadata": {},
   "source": [
    "The clusters from the Neighborhood and Year Built data set to me shows 5 distinct quanities of neighborhoods that have a higher amount of clusters from about 2000 to 5000. As the years increase the general clusters of neightborhoods between 1000 and 3000 go down but the number of neighborhoods between 4000 and 5000 have increased because population has increased so the need for more suburban neighborhoods"
   ]
  },
  {
   "cell_type": "markdown",
   "metadata": {},
   "source": [
    "New Feature of stories and bedrooms"
   ]
  },
  {
   "cell_type": "code",
   "execution_count": 11,
   "metadata": {},
   "outputs": [
    {
     "name": "stdout",
     "output_type": "stream",
     "text": [
      "[[1. 2.]\n",
      " [2. 3.]\n",
      " [1. 3.]\n",
      " ...\n",
      " [1. 3.]\n",
      " [1. 3.]\n",
      " [1. 3.]]\n"
     ]
    }
   ],
   "source": [
    "X = np.array(df1[[\"Stories\",\"Bdrms\"]])\n",
    "print(X)"
   ]
  },
  {
   "cell_type": "markdown",
   "metadata": {},
   "source": [
    "Scaling data"
   ]
  },
  {
   "cell_type": "code",
   "execution_count": 12,
   "metadata": {},
   "outputs": [
    {
     "name": "stdout",
     "output_type": "stream",
     "text": [
      "[[-0.79212479 -1.31432193]\n",
      " [ 1.44197473 -0.43749246]\n",
      " [-0.79212479 -0.43749246]\n",
      " ...\n",
      " [-0.79212479 -0.43749246]\n",
      " [-0.79212479 -0.43749246]\n",
      " [-0.79212479 -0.43749246]]\n"
     ]
    }
   ],
   "source": [
    "scaler = preprocessing.StandardScaler()\n",
    "X_scaled = scaler.fit_transform(X)\n",
    "print(X_scaled)"
   ]
  },
  {
   "cell_type": "markdown",
   "metadata": {},
   "source": [
    "Finding K "
   ]
  },
  {
   "cell_type": "code",
   "execution_count": null,
   "metadata": {},
   "outputs": [],
   "source": [
    "distortions = []\n",
    "inertias = []\n",
    "mapping1 = {}\n",
    "mapping2 = {}\n",
    "K = range(1, 15)\n",
    "  \n",
    "for k in K:\n",
    "    # Building and fitting the model\n",
    "    kmeanModel = KMeans(n_clusters=k).fit(X)\n",
    "    kmeanModel.fit(X)\n",
    "  \n",
    "    distortions.append(sum(np.min(cdist(X, kmeanModel.cluster_centers_,\n",
    "                                        'euclidean'), axis=1)) / X.shape[0])\n",
    "\n",
    "    mapping1[k] = sum(np.min(cdist(X, kmeanModel.cluster_centers_,\n",
    "                                   'euclidean'), axis=1)) / X.shape[0]   \n",
    "    \n",
    "for key, val in mapping1.items():\n",
    "    print(f'{key} : {val}')\n",
    "\n",
    "    \n",
    "plt.plot(K, distortions, 'bx-')\n",
    "plt.xlabel('Values of K')\n",
    "plt.ylabel('Distortion')\n",
    "plt.title('The Elbow Method using Distortion')\n",
    "plt.show()"
   ]
  },
  {
   "cell_type": "markdown",
   "metadata": {},
   "source": [
    "Kmean model for stories and bedrooms "
   ]
  },
  {
   "cell_type": "code",
   "execution_count": 13,
   "metadata": {},
   "outputs": [
    {
     "name": "stdout",
     "output_type": "stream",
     "text": [
      "[1 2 2 ... 2 2 2]\n"
     ]
    }
   ],
   "source": [
    "kmeans = KMeans(n_clusters=4)\n",
    "X_not = scaler.inverse_transform(X_scaled)\n",
    "\n",
    "#kmeans.fit(X_not)\n",
    "y_kmeans = kmeans.fit_predict(X_not)\n",
    "print(y_kmeans)"
   ]
  },
  {
   "cell_type": "code",
   "execution_count": 14,
   "metadata": {},
   "outputs": [
    {
     "name": "stdout",
     "output_type": "stream",
     "text": [
      "[1. 2. 1. ... 1. 1. 1.]\n",
      "[2. 3. 3. ... 3. 3. 3.]\n"
     ]
    },
    {
     "data": {
      "text/plain": [
       "Text(0, 0.5, 'Number of Bedrooms')"
      ]
     },
     "execution_count": 14,
     "metadata": {},
     "output_type": "execute_result"
    },
    {
     "data": {
      "image/png": "[encoded data removed]",
      "text/plain": [
       "<Figure size 640x480 with 1 Axes>"
      ]
     },
     "metadata": {},
     "output_type": "display_data"
    }
   ],
   "source": [
    "print(X_not[:,0])\n",
    "print(X_not[:,1])\n",
    "plt.scatter(X_not[:,0], X_not[:,1], c=y_kmeans, s=50)\n",
    "\n",
    "centers = kmeans.cluster_centers_\n",
    "plt.scatter(centers[:,0], centers[:,1], c='yellow', s=200, alpha=0.5);\n",
    "plt.xlabel(\"Stories\")\n",
    "plt.ylabel(\"Number of Bedrooms\")"
   ]
  },
  {
   "cell_type": "markdown",
   "metadata": {},
   "source": [
    "The clusters in this plot of number of bedrooms versus stories and the four clusters grou, 0-2 bedrooms, 3 bedrooms, 4-5 bedrooms and 6+ bedrooms. The largest cluster is with 0-2 bedrooms to me is because a bedroom is considered a bedroom if it has a window in it and a lot of 1 - 3 story homes have offices or dens that can be the same size of a bedroom but doesn't have a window. Also smaller sqft 1-3 story houses can only fit fewer bedrooms. However at the same time larger sqft homes can have a lot more bedrooms which is why the light tan is the second largest grouping because it can have more rooms with 1 to 3 stories of house"
   ]
  },
  {
   "cell_type": "markdown",
   "metadata": {
    "id": "zC1fGd3ScLad"
   },
   "source": [
    "# Example: k-means on images\n",
    "\n",
    "To start, let's take a look at applying *k*-means on simple handwritten digits images.  Here we will attempt to use *k*-means to try to identify similar digits *without using the original label information*.  We will start by loading the digits and then finding the ``KMeans`` clusters.\n",
    "\n",
    "The digits data consist of 1,797 samples with 64 features, where each of the 64 features is the brightness of one pixel in an 8×8 image.  We start by loading the data"
   ]
  },
  {
   "cell_type": "code",
   "execution_count": 15,
   "metadata": {
    "id": "TCgLRz2XcLad",
    "outputId": "5db45a3f-835f-4d52-93f6-ed9c81c182bb"
   },
   "outputs": [],
   "source": [
    "from sklearn.datasets import load_digits\n",
    "digits = load_digits()"
   ]
  },
  {
   "cell_type": "markdown",
   "metadata": {},
   "source": [
    "Let's take a look at one of the images.  "
   ]
  },
  {
   "cell_type": "code",
   "execution_count": 16,
   "metadata": {},
   "outputs": [
    {
     "data": {
      "image/png": "[encoded data removed]",
      "text/plain": [
       "<Figure size 640x480 with 1 Axes>"
      ]
     },
     "metadata": {},
     "output_type": "display_data"
    }
   ],
   "source": [
    "plt.imshow(digits.images[0], cmap='gray')\n",
    "plt.show()"
   ]
  },
  {
   "cell_type": "markdown",
   "metadata": {
    "id": "Sdf7XSYOcLae"
   },
   "source": [
    "## Exercise 10:\n",
    "Write a few lines of code to create a KMeans model using ``digits.data`` and 10 clusters.  No need to plot, just create the clusters for now.  "
   ]
  },
  {
   "cell_type": "code",
   "execution_count": 17,
   "metadata": {
    "id": "Q-fgxDN_cLae",
    "outputId": "0c589ce6-dcbe-457d-93c2-f8a961e64309"
   },
   "outputs": [
    {
     "name": "stdout",
     "output_type": "stream",
     "text": [
      "[2 9 9 ... 9 7 7]\n"
     ]
    }
   ],
   "source": [
    "kmeans = KMeans(n_clusters= 10)\n",
    "kmeans.fit(digits.data)\n",
    "clusters = kmeans.fit_predict(digits.data)\n",
    "y_kmeans = clusters\n",
    "print(y_kmeans)"
   ]
  },
  {
   "cell_type": "markdown",
   "metadata": {},
   "source": [
    "## Question: How many input dimensions exist in this data?  \n",
    "It is a 64 input dimension for this data"
   ]
  },
  {
   "cell_type": "markdown",
   "metadata": {
    "id": "4rR0CGhXcLaf"
   },
   "source": [
    "Let's see what the cluster centers look like:"
   ]
  },
  {
   "cell_type": "code",
   "execution_count": 18,
   "metadata": {
    "id": "icrsfXLKcLaf",
    "outputId": "933a9150-22fe-476d-bef1-05fb78f21708"
   },
   "outputs": [
    {
     "data": {
      "image/png": "[encoded data removed]",
      "text/plain": [
       "<Figure size 800x300 with 10 Axes>"
      ]
     },
     "metadata": {},
     "output_type": "display_data"
    }
   ],
   "source": [
    "fig, ax = plt.subplots(2, 5, figsize=(8, 3))\n",
    "centers = kmeans.cluster_centers_.reshape(10, 8, 8)\n",
    "for axi, center in zip(ax.flat, centers):\n",
    "    axi.set(xticks=[], yticks=[])\n",
    "    axi.imshow(center, interpolation='nearest', cmap=plt.cm.binary)"
   ]
  },
  {
   "cell_type": "markdown",
   "metadata": {
    "id": "h0ggP3wXcLaf"
   },
   "source": [
    "We see that *even without the labels*, ``KMeans`` is able to cluster whose centers are recognizable digits.  \n",
    "\n",
    "*k*-means knows nothing about the identity of the cluster, so the clusters are not in any specific order.  To identify the actual order, we can use the labels in the following code.  "
   ]
  },
  {
   "cell_type": "code",
   "execution_count": 19,
   "metadata": {
    "id": "gMFtQfqUcLaf"
   },
   "outputs": [
    {
     "name": "stderr",
     "output_type": "stream",
     "text": [
      "C:\\Users\\hensonc\\AppData\\Local\\Temp\\ipykernel_32704\\1054570171.py:6: FutureWarning: Unlike other reduction functions (e.g. `skew`, `kurtosis`), the default behavior of `mode` typically preserves the axis it acts along. In SciPy 1.11.0, this behavior will change: the default value of `keepdims` will become False, the `axis` over which the statistic is taken will be eliminated, and the value None will no longer be accepted. Set `keepdims` to True or False to avoid this warning.\n",
      "  labels[mask] = mode(digits.target[mask])[0]\n"
     ]
    }
   ],
   "source": [
    "from scipy.stats import mode\n",
    "\n",
    "labels = np.zeros_like(clusters)\n",
    "for i in range(10):\n",
    "    mask = (clusters == i)\n",
    "    labels[mask] = mode(digits.target[mask])[0]"
   ]
  },
  {
   "cell_type": "markdown",
   "metadata": {
    "id": "FZIyK4yacLag"
   },
   "source": [
    "Now we can check how accurate our unsupervised clustering was in finding similar digits within the data:"
   ]
  },
  {
   "cell_type": "code",
   "execution_count": 20,
   "metadata": {
    "id": "jDDW5oBicLag",
    "outputId": "ac119f49-15ff-4fda-940d-6187d5406aea"
   },
   "outputs": [
    {
     "data": {
      "text/plain": [
       "0.7941012799109627"
      ]
     },
     "execution_count": 20,
     "metadata": {},
     "output_type": "execute_result"
    }
   ],
   "source": [
    "from sklearn.metrics import accuracy_score\n",
    "accuracy_score(digits.target, labels)"
   ]
  },
  {
   "cell_type": "markdown",
   "metadata": {
    "id": "Z25C4JwTcLag"
   },
   "source": [
    "With just a simple *k*-means algorithm, we discovered the correct grouping for 80% of the input digits!\n",
    "Let's check the confusion matrix for this:"
   ]
  },
  {
   "cell_type": "code",
   "execution_count": null,
   "metadata": {
    "id": "hrgR33AQcLah",
    "outputId": "88b5fe27-b2ec-4b43-d913-d6041af89db3"
   },
   "outputs": [],
   "source": [
    "from sklearn.metrics import confusion_matrix\n",
    "mat = confusion_matrix(digits.target, labels)\n",
    "sns.heatmap(mat.T, square=True, annot=True, fmt='d', cbar=False,\n",
    "            xticklabels=digits.target_names,\n",
    "            yticklabels=digits.target_names)\n",
    "plt.xlabel('true label')\n",
    "plt.ylabel('predicted label');"
   ]
  },
  {
   "cell_type": "markdown",
   "metadata": {
    "id": "ePfvNvaFcLah"
   },
   "source": [
    "As we might expect from the cluster centers we visualized before, the main point of confusion is between the eights and ones.\n",
    "But this still shows that using *k*-means, we can essentially build a digit classifier *without reference to any known labels*!\n"
   ]
  },
  {
   "cell_type": "markdown",
   "metadata": {},
   "source": [
    "## Exercise 11:\n",
    "Let's try this with higher resolution images!  Use the code below to import the 28x28 DIGITS images.  \n",
    "\n",
    "Then complete the following steps:\n",
    "1. Plot an example image \n",
    "2. Train a KMeans cluster using the testing data.  Note that you will need to reshape the data to be in the correct format.  \n",
    "3. Plot the cluster centers\n",
    "4. Calculate the accuracy\n",
    "5. Plot the confusion matrix\n",
    "6. Use the training data and re-run the experiment to see how sensitive the model is to the data.  \n",
    "7. Write a short reflection on what you observed from this and why it might be the case.  \n",
    "\n",
    "784\n",
    "\n",
    "https://www.digitalocean.com/community/tutorials/mnist-dataset-in-python"
   ]
  },
  {
   "cell_type": "code",
   "execution_count": 2,
   "metadata": {},
   "outputs": [
    {
     "name": "stderr",
     "output_type": "stream",
     "text": [
      "/usr/local/anaconda3/lib/python3.7/site-packages/tensorflow/python/framework/dtypes.py:516: FutureWarning: Passing (type, 1) or '1type' as a synonym of type is deprecated; in a future version of numpy, it will be understood as (type, (1,)) / '(1,)type'.\n",
      "  _np_qint8 = np.dtype([(\"qint8\", np.int8, 1)])\n",
      "/usr/local/anaconda3/lib/python3.7/site-packages/tensorflow/python/framework/dtypes.py:517: FutureWarning: Passing (type, 1) or '1type' as a synonym of type is deprecated; in a future version of numpy, it will be understood as (type, (1,)) / '(1,)type'.\n",
      "  _np_quint8 = np.dtype([(\"quint8\", np.uint8, 1)])\n",
      "/usr/local/anaconda3/lib/python3.7/site-packages/tensorflow/python/framework/dtypes.py:518: FutureWarning: Passing (type, 1) or '1type' as a synonym of type is deprecated; in a future version of numpy, it will be understood as (type, (1,)) / '(1,)type'.\n",
      "  _np_qint16 = np.dtype([(\"qint16\", np.int16, 1)])\n",
      "/usr/local/anaconda3/lib/python3.7/site-packages/tensorflow/python/framework/dtypes.py:519: FutureWarning: Passing (type, 1) or '1type' as a synonym of type is deprecated; in a future version of numpy, it will be understood as (type, (1,)) / '(1,)type'.\n",
      "  _np_quint16 = np.dtype([(\"quint16\", np.uint16, 1)])\n",
      "/usr/local/anaconda3/lib/python3.7/site-packages/tensorflow/python/framework/dtypes.py:520: FutureWarning: Passing (type, 1) or '1type' as a synonym of type is deprecated; in a future version of numpy, it will be understood as (type, (1,)) / '(1,)type'.\n",
      "  _np_qint32 = np.dtype([(\"qint32\", np.int32, 1)])\n",
      "/usr/local/anaconda3/lib/python3.7/site-packages/tensorflow/python/framework/dtypes.py:525: FutureWarning: Passing (type, 1) or '1type' as a synonym of type is deprecated; in a future version of numpy, it will be understood as (type, (1,)) / '(1,)type'.\n",
      "  np_resource = np.dtype([(\"resource\", np.ubyte, 1)])\n",
      "/usr/local/anaconda3/lib/python3.7/site-packages/tensorboard/compat/tensorflow_stub/dtypes.py:541: FutureWarning: Passing (type, 1) or '1type' as a synonym of type is deprecated; in a future version of numpy, it will be understood as (type, (1,)) / '(1,)type'.\n",
      "  _np_qint8 = np.dtype([(\"qint8\", np.int8, 1)])\n",
      "/usr/local/anaconda3/lib/python3.7/site-packages/tensorboard/compat/tensorflow_stub/dtypes.py:542: FutureWarning: Passing (type, 1) or '1type' as a synonym of type is deprecated; in a future version of numpy, it will be understood as (type, (1,)) / '(1,)type'.\n",
      "  _np_quint8 = np.dtype([(\"quint8\", np.uint8, 1)])\n",
      "/usr/local/anaconda3/lib/python3.7/site-packages/tensorboard/compat/tensorflow_stub/dtypes.py:543: FutureWarning: Passing (type, 1) or '1type' as a synonym of type is deprecated; in a future version of numpy, it will be understood as (type, (1,)) / '(1,)type'.\n",
      "  _np_qint16 = np.dtype([(\"qint16\", np.int16, 1)])\n",
      "/usr/local/anaconda3/lib/python3.7/site-packages/tensorboard/compat/tensorflow_stub/dtypes.py:544: FutureWarning: Passing (type, 1) or '1type' as a synonym of type is deprecated; in a future version of numpy, it will be understood as (type, (1,)) / '(1,)type'.\n",
      "  _np_quint16 = np.dtype([(\"quint16\", np.uint16, 1)])\n",
      "/usr/local/anaconda3/lib/python3.7/site-packages/tensorboard/compat/tensorflow_stub/dtypes.py:545: FutureWarning: Passing (type, 1) or '1type' as a synonym of type is deprecated; in a future version of numpy, it will be understood as (type, (1,)) / '(1,)type'.\n",
      "  _np_qint32 = np.dtype([(\"qint32\", np.int32, 1)])\n",
      "/usr/local/anaconda3/lib/python3.7/site-packages/tensorboard/compat/tensorflow_stub/dtypes.py:550: FutureWarning: Passing (type, 1) or '1type' as a synonym of type is deprecated; in a future version of numpy, it will be understood as (type, (1,)) / '(1,)type'.\n",
      "  np_resource = np.dtype([(\"resource\", np.ubyte, 1)])\n"
     ]
    }
   ],
   "source": [
    "import tensorflow as tf\n",
    "from tensorflow import keras\n",
    "(X_train, y_train), (X_test, y_test) = tf.keras.datasets.mnist.load_data()"
   ]
  },
  {
   "cell_type": "code",
   "execution_count": 3,
   "metadata": {},
   "outputs": [
    {
     "name": "stdout",
     "output_type": "stream",
     "text": [
      "X_train: (60000, 28, 28)\n",
      "Y_train: (60000,)\n",
      "X_test:  (10000, 28, 28)\n",
      "Y_test:  (10000,)\n"
     ]
    },
    {
     "data": {
      "image/png": "[encoded data removed]",
      "text/plain": [
       "<Figure size 432x288 with 9 Axes>"
      ]
     },
     "metadata": {},
     "output_type": "display_data"
    }
   ],
   "source": [
    "print('X_train: ' + str(X_train.shape))\n",
    "print('Y_train: ' + str(y_train.shape))\n",
    "print('X_test:  '  + str(X_test.shape))\n",
    "print('Y_test:  '  + str(y_test.shape))\n",
    "\n",
    "\n",
    "for i in range(9):  \n",
    "    plt.subplot(330 + 1 + i)\n",
    "    plt.imshow(X_train[i], cmap=plt.get_cmap('pink'))\n",
    "plt.show()"
   ]
  },
  {
   "cell_type": "code",
   "execution_count": 24,
   "metadata": {},
   "outputs": [
    {
     "name": "stdout",
     "output_type": "stream",
     "text": [
      "[[7 2]\n",
      " [1 0]\n",
      " [4 1]\n",
      " ...\n",
      " [1 2]\n",
      " [3 4]\n",
      " [5 6]]\n"
     ]
    }
   ],
   "source": [
    "#y_test = y_test.reshape(10000, -1)\n",
    "y_test = np.reshape(y_test, (-1, 2))\n",
    "print(y_test)"
   ]
  },
  {
   "cell_type": "code",
   "execution_count": 28,
   "metadata": {},
   "outputs": [
    {
     "name": "stdout",
     "output_type": "stream",
     "text": [
      "[[7 2]\n",
      " [1 0]\n",
      " [4 1]\n",
      " ...\n",
      " [1 2]\n",
      " [3 4]\n",
      " [5 6]]\n",
      "[1 1 1 ... 1 1 0]\n"
     ]
    },
    {
     "data": {
      "image/png": "[encoded data removed]",
      "text/plain": [
       "<Figure size 432x288 with 1 Axes>"
      ]
     },
     "metadata": {},
     "output_type": "display_data"
    }
   ],
   "source": [
    "y_test = np.reshape(y_test, (-1, 2))\n",
    "print(y_test)\n",
    "kmeans = KMeans(n_clusters= 2)\n",
    "kmeans.fit(y_test)\n",
    "clusters = kmeans.fit_predict(y_test)\n",
    "y_kmeans = clusters\n",
    "print(y_kmeans)\n",
    "\n",
    "plt.scatter(y_test[:,0], y_test[:,1], c=y_kmeans, s=50)\n",
    "centers = kmeans.cluster_centers_\n",
    "plt.scatter(centers[:,0], centers[:,1], c='yellow', s=200, alpha=0.5);"
   ]
  },
  {
   "cell_type": "code",
   "execution_count": 30,
   "metadata": {},
   "outputs": [
    {
     "name": "stdout",
     "output_type": "stream",
     "text": [
      "[[0 0]\n",
      " [0 0]\n",
      " [0 0]\n",
      " ...\n",
      " [0 0]\n",
      " [0 0]\n",
      " [0 0]]\n",
      "[0 0 0 ... 0 0 0]\n"
     ]
    }
   ],
   "source": [
    "X_test = np.reshape(X_test, (-1, 2))\n",
    "print(X_test)\n",
    "\n",
    "kmeans = KMeans(n_clusters= 10)\n",
    "kmeans.fit(X_test)\n",
    "clusters = kmeans.fit_predict(X_test)\n",
    "y_kmeans = clusters\n",
    "print(y_kmeans)\n"
   ]
  },
  {
   "cell_type": "code",
   "execution_count": 31,
   "metadata": {},
   "outputs": [
    {
     "data": {
      "image/png": "[encoded data removed]",
      "text/plain": [
       "<Figure size 432x288 with 1 Axes>"
      ]
     },
     "metadata": {},
     "output_type": "display_data"
    }
   ],
   "source": [
    "plt.scatter(X_test[:,0], X_test[:,1], c=y_kmeans, s=50)\n",
    "centers = kmeans.cluster_centers_\n",
    "plt.scatter(centers[:,0], centers[:,1], c='yellow', s=200, alpha=0.5);"
   ]
  },
  {
   "cell_type": "code",
   "execution_count": 32,
   "metadata": {},
   "outputs": [
    {
     "name": "stdout",
     "output_type": "stream",
     "text": [
      "[[0 0]\n",
      " [0 0]\n",
      " [0 0]\n",
      " ...\n",
      " [0 0]\n",
      " [0 0]\n",
      " [0 0]]\n"
     ]
    }
   ],
   "source": [
    "X_train = np.reshape(X_train, (-1, 2))\n",
    "print(X_train)"
   ]
  },
  {
   "cell_type": "code",
   "execution_count": 33,
   "metadata": {},
   "outputs": [
    {
     "name": "stdout",
     "output_type": "stream",
     "text": [
      "[1 1 1 ... 1 1 1]\n"
     ]
    }
   ],
   "source": [
    "kmeans = KMeans(n_clusters= 10)\n",
    "kmeans.fit(X_train)\n",
    "clusters = kmeans.fit_predict(X_train)\n",
    "y_kmeans = clusters\n",
    "print(y_kmeans)"
   ]
  },
  {
   "cell_type": "code",
   "execution_count": 35,
   "metadata": {},
   "outputs": [
    {
     "data": {
      "image/png": "[encoded data removed]",
      "text/plain": [
       "<Figure size 432x288 with 1 Axes>"
      ]
     },
     "metadata": {},
     "output_type": "display_data"
    }
   ],
   "source": [
    "plt.scatter(X_train[:,0], X_train[:,1], c=y_kmeans, s=50)\n",
    "\n",
    "centers = kmeans.cluster_centers_\n",
    "plt.scatter(centers[:,0], centers[:,1], c='yellow', s=200, alpha=0.5);"
   ]
  },
  {
   "cell_type": "code",
   "execution_count": 36,
   "metadata": {},
   "outputs": [
    {
     "name": "stdout",
     "output_type": "stream",
     "text": [
      "[[5 0]\n",
      " [4 1]\n",
      " [9 2]\n",
      " ...\n",
      " [1 8]\n",
      " [3 5]\n",
      " [6 8]]\n",
      "[1 1 1 ... 0 0 0]\n"
     ]
    }
   ],
   "source": [
    "y_train = np.reshape(y_train, (-1, 2))\n",
    "print(y_train)\n",
    "\n",
    "kmeans = KMeans(n_clusters= 2)\n",
    "kmeans.fit(y_train)\n",
    "clusters = kmeans.fit_predict(y_train)\n",
    "y_kmeans = clusters\n",
    "print(y_kmeans)\n"
   ]
  },
  {
   "cell_type": "code",
   "execution_count": 37,
   "metadata": {},
   "outputs": [
    {
     "data": {
      "image/png": "[encoded data removed]",
      "text/plain": [
       "<Figure size 432x288 with 1 Axes>"
      ]
     },
     "metadata": {},
     "output_type": "display_data"
    }
   ],
   "source": [
    "plt.scatter(y_train[:,0], y_train[:,1], c=y_kmeans, s=50)\n",
    "\n",
    "centers = kmeans.cluster_centers_\n",
    "plt.scatter(centers[:,0], centers[:,1], c='yellow', s=200, alpha=0.5);"
   ]
  },
  {
   "cell_type": "markdown",
   "metadata": {},
   "source": [
    "### Reflection\n",
    "TODO"
   ]
  }
 ],
 "metadata": {
  "anaconda-cloud": {},
  "colab": {
   "name": "05.11-K-Means.ipynb",
   "provenance": []
  },
  "kernelspec": {
   "display_name": "Python 3 (ipykernel)",
   "language": "python",
   "name": "python3"
  },
  "language_info": {
   "codemirror_mode": {
    "name": "ipython",
    "version": 3
   },
   "file_extension": ".py",
   "mimetype": "text/x-python",
   "name": "python",
   "nbconvert_exporter": "python",
   "pygments_lexer": "ipython3",
   "version": "3.9.13"
  }
 },
 "nbformat": 4,
 "nbformat_minor": 1
}
