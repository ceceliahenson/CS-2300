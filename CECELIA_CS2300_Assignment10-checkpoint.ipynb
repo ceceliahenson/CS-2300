{
 "cells": [
  {
   "cell_type": "markdown",
   "metadata": {},
   "source": [
    "# Bag of Words Activity\n",
    "\n",
    "By: Cecelia Henson\n",
    "\n",
    "We will start by creating a BOW representation vector without any external libraries to see how easy it is!"
   ]
  },
  {
   "cell_type": "code",
   "execution_count": 1,
   "metadata": {},
   "outputs": [],
   "source": [
    "def vectorize(tokens, vocabulary):\n",
    "    ''' This function takes list of tokens as input and returns \n",
    "    a vector with 0 if the token is not present in tokens and \n",
    "    count if present.'''\n",
    "    vector=[]\n",
    "    for token in vocabulary:\n",
    "        vector.append(tokens.count(token))\n",
    "    return vector\n",
    "\n",
    "def unique(sequence):\n",
    "    '''This functions returns a list that omits duplicates but\n",
    "    preserves order.'''\n",
    "    seen = set()\n",
    "    return [x for x in sequence if not (x in seen or seen.add(x))]"
   ]
  },
  {
   "cell_type": "code",
   "execution_count": 2,
   "metadata": {},
   "outputs": [
    {
     "name": "stdout",
     "output_type": "stream",
     "text": [
      "Original An introduction to the science of computation and data including tools, languages, and methods to support artificial intelligence.  Topics include applying the scientific method for data-driven computational problems, analysis, data preparation, and visualization\n",
      "Lowercase an introduction to the science of computation and data including tools, languages, and methods to support artificial intelligence.  topics include applying the scientific method for data-driven computational problems, analysis, data preparation, and visualization\n",
      "Tokens ['an', 'introduction', 'to', 'the', 'science', 'of', 'computation', 'and', 'data', 'including', 'tools', 'languages', 'and', 'methods', 'to', 'support', 'artificial', 'intelligence', 'topics', 'include', 'applying', 'the', 'scientific', 'method', 'for', 'datadriven', 'computational', 'problems', 'analysis', 'data', 'preparation', 'and', 'visualization']\n",
      "Vocabulary ['an', 'introduction', 'to', 'the', 'science', 'of', 'computation', 'and', 'data', 'including', 'tools', 'languages', 'methods', 'support', 'artificial', 'intelligence', 'topics', 'include', 'applying', 'scientific', 'method', 'for', 'datadriven', 'computational', 'problems', 'analysis', 'preparation', 'visualization', 'This', 'course', 'provides', 'applied', 'exploratory', 'statistical', 'testing', 'predictive', 'modeling', 'Emphasis', 'will', 'be', 'placed', 'on', 'extracting', 'information', 'from', 'sets', 'that', 'can', 'turned', 'into', 'actionable', 'insights', 'or', 'interventions', 'Problems', 'are', 'selected', 'a', 'broad', 'range', 'disciplines', 'interest', 'students', 'faculty', 'industry', 'partners', 'machine', 'learning', 'Machine', 'explores', 'study', 'construction', 'algorithms', 'learn', 'make', 'predictions', 'Such', 'operate', 'by', 'building', 'model', 'example', 'inputs', 'in', 'order', 'decisions', 'rather', 'than', 'following', 'strictly', 'static', 'program', 'instructions', 'Topic', 'categories', 'optimization', 'both', 'supervised', 'unsupervised', 'Students', 'reinforce', 'their', 'with', 'handson', 'tutorialoriented', 'laboratory', 'exercises', 'development', 'representative', 'applications', 'experience', 'working', 'team', 'largescale', 'projects', 'using', 'extensive', 'provided', 'academic', 'researchers', 'government', 'given', 'access', 'directed', 'questions', 'apply', 'theory', 'practices', 'previous', 'courses', 'propose', 'hypotheses', 'evaluate', 'those', 'Projects', 'end', 'teams', 'presenting', 'results', 'client', 'verbally', 'written', 'form', 'Includes', 'discussions', 'principles', 'effective']\n",
      "[1, 1, 2, 2, 1, 1, 1, 3, 2, 1, 1, 1, 1, 1, 1, 1, 1, 1, 1, 1, 1, 1, 1, 1, 1, 1, 1, 1, 0, 0, 0, 0, 0, 0, 0, 0, 0, 0, 0, 0, 0, 0, 0, 0, 0, 0, 0, 0, 0, 0, 0, 0, 0, 0, 0, 0, 0, 0, 0, 0, 0, 0, 0, 0, 0, 0, 0, 0, 0, 0, 0, 0, 0, 0, 0, 0, 0, 0, 0, 0, 0, 0, 0, 0, 0, 0, 0, 0, 0, 0, 0, 0, 0, 0, 0, 0, 0, 0, 0, 0, 0, 0, 0, 0, 0, 0, 0, 0, 0, 0, 0, 0, 0, 0, 0, 0, 0, 0, 0, 0, 0, 0, 0, 0, 0, 0, 0, 0, 0, 0, 0, 0, 0, 0, 0, 0, 0, 0, 0, 0, 0, 0, 0, 0, 0, 0, 0]\n"
     ]
    }
   ],
   "source": [
    "import re\n",
    "# corpus\n",
    "cs2300_desc = \"An introduction to the science of computation and data including tools, languages, and methods to support artificial intelligence.  Topics include applying the scientific method for data-driven computational problems, analysis, data preparation, and visualization\"\n",
    "cs3300_desc = \"This course provides an introduction to applied data science including data preparation, exploratory data analysis, data visualization, statistical testing, and predictive modeling.  Emphasis will be placed on extracting information from data sets that can be turned into actionable insights or interventions.  Problems and data sets are selected from a broad range of disciplines of interest to students, faculty, and industry partners.\"\n",
    "cs3400_desc = \"This course provides a broad introduction to machine learning. Machine learning explores the study and construction of algorithms that can learn from and make predictions on data. Such algorithms operate by building a model from example inputs in order to make data-driven predictions or decisions, rather than following strictly static program instructions. Topic categories include optimization and both supervised and unsupervised methods. Students will reinforce their learning of machine learning algorithms with hands-on, tutorial-oriented laboratory exercises for development of representative applications.\"\n",
    "cs3310_desc = \"This course provides students the experience of working in a team on large-scale data analysis projects using extensive data sets provided by industry, academic researchers, and the government. Students are given access to data sets and directed questions, and the students apply the theory and practices from previous courses to propose hypotheses and evaluate those hypotheses. Projects end with teams presenting their results to their client both verbally and in written form. Includes discussions of principles for effective data visualization. \"\n",
    "\n",
    "print('Original ' + cs2300_desc)\n",
    "\n",
    "# convert to lower case\n",
    "cs2300_desc = cs2300_desc.lower()\n",
    "print('Lowercase ' + cs2300_desc)\n",
    "\n",
    "# removing special characters\n",
    "cs2300_desc = re.sub('[^A-Za-z0-9 ]+', '', cs2300_desc)\n",
    "cs3300_desc = re.sub('[^A-Za-z0-9 ]+', '', cs3300_desc)\n",
    "cs3400_desc = re.sub('[^A-Za-z0-9 ]+', '', cs3400_desc)\n",
    "cs3310_desc = re.sub('[^A-Za-z0-9 ]+', '', cs3310_desc)\n",
    "\n",
    "# tokenize string into list\n",
    "cs2300_tokens = cs2300_desc.split()\n",
    "cs3300_tokens = cs3300_desc.split()\n",
    "cs3400_tokens = cs3400_desc.split()\n",
    "cs3310_tokens = cs3310_desc.split()\n",
    "\n",
    "print('Tokens ' + str(cs2300_tokens))\n",
    "\n",
    "#TODO create a vocabulary list from all tokens\n",
    "vocabulary = unique(cs2300_tokens + cs3300_tokens + cs3400_tokens + cs3310_tokens)\n",
    "print('Vocabulary ' + str(vocabulary))\n",
    "\n",
    "#TODO convert all 4 sets of tokens into BOW vectors\n",
    "cs2300_vector = vectorize(cs2300_tokens, vocabulary)\n",
    "cs3300_vector = vectorize(cs3300_tokens, vocabulary)\n",
    "cs3400_vector = vectorize(cs3400_tokens, vocabulary)\n",
    "cs3310_vector = vectorize(cs3310_tokens, vocabulary)\n",
    "print(cs2300_vector)\n"
   ]
  },
  {
   "cell_type": "markdown",
   "metadata": {},
   "source": [
    "Special characters are often scrubbed/omitted from a BOW model.  Add some code above to remove special characters like punctuation and regenerate the BOW model.  \n",
    "\n",
    "In the next cell we can see how to use sklearn to create a BOW model.  "
   ]
  },
  {
   "cell_type": "code",
   "execution_count": 3,
   "metadata": {},
   "outputs": [
    {
     "name": "stdout",
     "output_type": "stream",
     "text": [
      "   actionable  analysis  applied  broad  course  data  disciplines  emphasis  \\\n",
      "0           1         1        1      1       1     6            1         1   \n",
      "\n",
      "   exploratory  extracting  ...  provides  range  science  selected  sets  \\\n",
      "0            1           1  ...         1      1        1         1     2   \n",
      "\n",
      "   statistical  students  testing  turned  visualization  \n",
      "0            1         1        1       1              1  \n",
      "\n",
      "[1 rows x 33 columns]\n"
     ]
    },
    {
     "name": "stderr",
     "output_type": "stream",
     "text": [
      "C:\\Users\\hensonc\\Anaconda3\\lib\\site-packages\\sklearn\\utils\\deprecation.py:87: FutureWarning: Function get_feature_names is deprecated; get_feature_names is deprecated in 1.0 and will be removed in 1.2. Please use get_feature_names_out instead.\n",
      "  warnings.warn(msg, category=FutureWarning)\n"
     ]
    }
   ],
   "source": [
    "import pandas as pd\n",
    "from sklearn.feature_extraction.text import CountVectorizer, TfidfVectorizer\n",
    " \n",
    "CountVec = CountVectorizer(ngram_range=(1,1), # to use bigrams ngram_range=(2,2)\n",
    "                           stop_words='english')\n",
    "Count_data = CountVec.fit_transform([cs3300_desc])\n",
    " \n",
    "#create dataframe\n",
    "cv_dataframe=pd.DataFrame(Count_data.toarray(),columns=CountVec.get_feature_names())\n",
    "print(cv_dataframe)"
   ]
  },
  {
   "cell_type": "markdown",
   "metadata": {},
   "source": [
    "## Distance\n",
    "Next we want to determine how similar two BOW models are, and one way we can do this is by using a \"distance\" measure.  A simple distance measure that is used is the euclidian distance.  In the next cell, the \"looping\" version of euclidian distance is given.  You should write the \"vectorized\" version using numpy in the following cell.  Benchmark the two methods and test them by comparing the 4 BOW vectors previously calculated.  Which two course descriptions are \"closest\"?"
   ]
  },
  {
   "cell_type": "code",
   "execution_count": 4,
   "metadata": {},
   "outputs": [
    {
     "name": "stdout",
     "output_type": "stream",
     "text": [
      "10.862780491200215\n",
      "12.609520212918492\n"
     ]
    }
   ],
   "source": [
    "import math\n",
    "def euclidian_loop(X, Y):\n",
    "    total = 0\n",
    "    for i in range(len(X)):\n",
    "        total += (X[i] - Y[i])**2\n",
    "    return math.sqrt(total)\n",
    "\n",
    "mostSimilar = euclidian_loop(cs2300_vector,cs3400_vector)\n",
    "leastSimilar = euclidian_loop(cs3400_vector,cs3310_vector)\n",
    "print(mostSimilar)\n",
    "print(leastSimilar)"
   ]
  }
 ],
 "metadata": {
  "kernelspec": {
   "display_name": "Python 3 (ipykernel)",
   "language": "python",
   "name": "python3"
  },
  "language_info": {
   "codemirror_mode": {
    "name": "ipython",
    "version": 3
   },
   "file_extension": ".py",
   "mimetype": "text/x-python",
   "name": "python",
   "nbconvert_exporter": "python",
   "pygments_lexer": "ipython3",
   "version": "3.9.13"
  }
 },
 "nbformat": 4,
 "nbformat_minor": 4
}
