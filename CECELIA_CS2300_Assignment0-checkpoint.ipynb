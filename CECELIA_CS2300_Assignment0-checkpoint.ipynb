{
 "cells": [
  {
   "cell_type": "markdown",
   "id": "484a1efb",
   "metadata": {},
   "source": [
    "## This is declaring a variable"
   ]
  },
  {
   "cell_type": "code",
   "execution_count": 1,
   "id": "fbb7044c",
   "metadata": {},
   "outputs": [],
   "source": [
    "c = 4"
   ]
  },
  {
   "cell_type": "markdown",
   "id": "fab3fdcc",
   "metadata": {},
   "source": [
    "## This is printing out the variable"
   ]
  },
  {
   "cell_type": "code",
   "execution_count": 2,
   "id": "7b22fdb2",
   "metadata": {},
   "outputs": [
    {
     "name": "stdout",
     "output_type": "stream",
     "text": [
      "4\n"
     ]
    }
   ],
   "source": [
    "print(c)"
   ]
  },
  {
   "cell_type": "markdown",
   "id": "4e5ce5c5",
   "metadata": {},
   "source": [
    "## This is checking to see if a print statement work"
   ]
  },
  {
   "cell_type": "code",
   "execution_count": 3,
   "id": "356c0d80",
   "metadata": {},
   "outputs": [
    {
     "name": "stdout",
     "output_type": "stream",
     "text": [
      "This is the first assignment\n"
     ]
    }
   ],
   "source": [
    "print(\"This is the first assignment\")"
   ]
  },
  {
   "cell_type": "markdown",
   "id": "f63061be",
   "metadata": {},
   "source": [
    "## This is testing a conditional in python"
   ]
  },
  {
   "cell_type": "code",
   "execution_count": 4,
   "id": "fcfae324",
   "metadata": {},
   "outputs": [
    {
     "name": "stdout",
     "output_type": "stream",
     "text": [
      "This conditional works\n"
     ]
    }
   ],
   "source": [
    "if(c > 1):\n",
    "    print(\"This conditional works\")\n",
    "else:\n",
    "    print(\"This doesn't pass\")"
   ]
  },
  {
   "cell_type": "markdown",
   "id": "3fa26468",
   "metadata": {},
   "source": [
    "## This is testing a for loop in python"
   ]
  },
  {
   "cell_type": "code",
   "execution_count": 5,
   "id": "bddbc952",
   "metadata": {},
   "outputs": [
    {
     "name": "stdout",
     "output_type": "stream",
     "text": [
      "1\n",
      "2\n",
      "3\n",
      "4\n"
     ]
    }
   ],
   "source": [
    "for x in range(c):\n",
    "    print(x+1)"
   ]
  },
  {
   "cell_type": "markdown",
   "id": "fb40884f",
   "metadata": {},
   "source": [
    "## This is using the math class to use a library in python by squaring \n",
    "## a number"
   ]
  },
  {
   "cell_type": "code",
   "execution_count": 6,
   "id": "c3c4af80",
   "metadata": {},
   "outputs": [
    {
     "name": "stdout",
     "output_type": "stream",
     "text": [
      "5.0\n"
     ]
    }
   ],
   "source": [
    "import math\n",
    "x = math.sqrt(25)\n",
    "print(x)"
   ]
  }
 ],
 "metadata": {
  "kernelspec": {
   "display_name": "Python 3 (ipykernel)",
   "language": "python",
   "name": "python3"
  },
  "language_info": {
   "codemirror_mode": {
    "name": "ipython",
    "version": 3
   },
   "file_extension": ".py",
   "mimetype": "text/x-python",
   "name": "python",
   "nbconvert_exporter": "python",
   "pygments_lexer": "ipython3",
   "version": "3.9.13"
  }
 },
 "nbformat": 4,
 "nbformat_minor": 5
}
