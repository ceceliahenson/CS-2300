{
 "cells": [
  {
   "cell_type": "markdown",
   "metadata": {},
   "source": [
    "Introduction to Python Programming\n",
    "======"
   ]
  },
  {
   "cell_type": "markdown",
   "metadata": {},
   "source": [
    "Cecelia Henson\n",
    "\n",
    "Lets start with the obligatory hello world program:"
   ]
  },
  {
   "cell_type": "code",
   "execution_count": 1,
   "metadata": {},
   "outputs": [
    {
     "name": "stdout",
     "output_type": "stream",
     "text": [
      "Hello World\n"
     ]
    }
   ],
   "source": [
    "print(\"Hello World\")"
   ]
  },
  {
   "cell_type": "markdown",
   "metadata": {},
   "source": [
    "Here are some examples of defining and using variables of different types, with a few simple operators applied to \n",
    "the variables of different types.\n",
    "\n",
    "Add a print statement after each line to print the type of each variable"
   ]
  },
  {
   "cell_type": "code",
   "execution_count": 2,
   "metadata": {},
   "outputs": [
    {
     "name": "stdout",
     "output_type": "stream",
     "text": [
      "True\n",
      "3.14159\n",
      "True\n"
     ]
    }
   ],
   "source": [
    "x = True\n",
    "print(x)\n",
    "\n",
    "x = 3.14159\n",
    "print(x)\n",
    "\n",
    "x = 'True'\n",
    "print(x)\n"
   ]
  },
  {
   "cell_type": "markdown",
   "metadata": {},
   "source": [
    "Functions \n",
    "---------\n",
    "\n",
    "A function in Python is defined using the keyword `def`, followed by a function name, a signature within parenthises `()`, and a colon `:`.  A function in python always returns a value, but if you don't specify the value to return using the **return** keyword, it returns the special value **None**.  "
   ]
  },
  {
   "cell_type": "code",
   "execution_count": 3,
   "metadata": {},
   "outputs": [],
   "source": [
    "def print_lyrics(x):\n",
    "    for i in range(x):\n",
    "        print(\"Who Let the Dogs out\")"
   ]
  },
  {
   "cell_type": "markdown",
   "metadata": {},
   "source": [
    "Notice when you define a function, it doesn't actually execute anything.  In order to execute a function, you need to invoke it."
   ]
  },
  {
   "cell_type": "code",
   "execution_count": 4,
   "metadata": {},
   "outputs": [
    {
     "name": "stdout",
     "output_type": "stream",
     "text": [
      "Who Let the Dogs out\n",
      "Who Let the Dogs out\n",
      "Who Let the Dogs out\n",
      "Who Let the Dogs out\n",
      "Who Let the Dogs out\n",
      "Who Let the Dogs out\n",
      "Who Let the Dogs out\n"
     ]
    }
   ],
   "source": [
    "print_lyrics(7)"
   ]
  },
  {
   "cell_type": "markdown",
   "metadata": {},
   "source": [
    "Modify the previous function to take an input integer that defines how many times the entire phrase is repeated similar to the song: https://genius.com/Baha-men-who-let-the-dogs-out-lyrics"
   ]
  },
  {
   "cell_type": "markdown",
   "metadata": {},
   "source": [
    "Strings\n",
    "---------\n",
    "Single or double quotes designate a string literal.  Python does NOT have a char datatype.  Indexing into a string is accomplished via array-like syntax.  Does Python use 0-indexing or 1-indexing?\n",
    "\n",
    "Python uses 0-indexing"
   ]
  },
  {
   "cell_type": "code",
   "execution_count": 5,
   "metadata": {},
   "outputs": [
    {
     "name": "stdout",
     "output_type": "stream",
     "text": [
      "h\n",
      "e\n"
     ]
    }
   ],
   "source": [
    "a = \"hello world\"\n",
    "print(a[0])\n",
    "print(a[1])"
   ]
  },
  {
   "cell_type": "markdown",
   "metadata": {},
   "source": [
    "Substring is accomplished using square brackets:"
   ]
  },
  {
   "cell_type": "code",
   "execution_count": 6,
   "metadata": {},
   "outputs": [
    {
     "name": "stdout",
     "output_type": "stream",
     "text": [
      "llo w\n"
     ]
    }
   ],
   "source": [
    "print(a[2:7])"
   ]
  },
  {
   "cell_type": "markdown",
   "metadata": {},
   "source": [
    "If we omit either (or both) of `start` or `stop` from `[start:stop]`, the default is the beginning and the end of the string, respectively:"
   ]
  },
  {
   "cell_type": "code",
   "execution_count": 7,
   "metadata": {},
   "outputs": [
    {
     "data": {
      "text/plain": [
       "'hell'"
      ]
     },
     "execution_count": 7,
     "metadata": {},
     "output_type": "execute_result"
    }
   ],
   "source": [
    "a[:4]"
   ]
  },
  {
   "cell_type": "markdown",
   "metadata": {},
   "source": [
    "We can also define the step size using the syntax `[start:end:step]` (the default value for `step` is 1, as we saw above):"
   ]
  },
  {
   "cell_type": "code",
   "execution_count": 8,
   "metadata": {},
   "outputs": [
    {
     "data": {
      "text/plain": [
       "'hello world'"
      ]
     },
     "execution_count": 8,
     "metadata": {},
     "output_type": "execute_result"
    }
   ],
   "source": [
    "a[::1]"
   ]
  },
  {
   "cell_type": "markdown",
   "metadata": {},
   "source": [
    "In the next cell, show what it looks like to step by a value not equal to 1.  "
   ]
  },
  {
   "cell_type": "code",
   "execution_count": 9,
   "metadata": {},
   "outputs": [
    {
     "data": {
      "text/plain": [
       "'hello worl'"
      ]
     },
     "execution_count": 9,
     "metadata": {},
     "output_type": "execute_result"
    }
   ],
   "source": [
    "a[:-1]"
   ]
  },
  {
   "cell_type": "markdown",
   "metadata": {},
   "source": [
    "In the following cell, call each of the following functions on your favorite string object:\n",
    "\n",
    "strip() removes whitespace at the beginning or the end\n",
    "\n",
    "len() returns the length\n",
    "\n",
    "lower() returns the string as lowercase\n",
    "\n",
    "upper() returns the string as uppercase\n",
    "\n",
    "replace(str1,str2) replaces string occurences of str1 with str2\n",
    "\n",
    "split(separator) returns substrings on a string separator"
   ]
  },
  {
   "cell_type": "code",
   "execution_count": 10,
   "metadata": {},
   "outputs": [
    {
     "name": "stdout",
     "output_type": "stream",
     "text": [
      "hello world\n",
      "11\n",
      "hello world\n",
      "HELLO WORLD\n",
      "hi\n",
      "['he', '', 'o wor', 'd']\n"
     ]
    }
   ],
   "source": [
    "b = \"hello world\"\n",
    "print(b.strip())\n",
    "print(len(b))\n",
    "print(b.lower())\n",
    "print(b.upper())\n",
    "print(b.replace(a,\"hi\"))\n",
    "print(b.split(\"l\"))"
   ]
  },
  {
   "cell_type": "markdown",
   "metadata": {},
   "source": [
    "Data Structures\n",
    "------------------------\n",
    "\n",
    "Python has many powerful built in fundamental data structures.  \n",
    "\n",
    "** Lists **\n",
    "\n",
    "Lists are used to contain a sequence of values.  Lists are mutable, which means their contents can be changed after they are created, and duplicate members are also allowed.  The values in a list can be of different types (which is one important way lists are fundamentally different from Java arrays).  Lists are indicated syntatically in Python using the square brackets [ and ].\n",
    "\n",
    "Some examples of defining lists."
   ]
  },
  {
   "cell_type": "code",
   "execution_count": 11,
   "metadata": {},
   "outputs": [
    {
     "name": "stdout",
     "output_type": "stream",
     "text": [
      "[17, 42, 42, 'Gouda']\n"
     ]
    }
   ],
   "source": [
    "cheeses = ['Cheddar', 'Edam', 'Gouda']\n",
    "numbers = [17, 42, 42,'Gouda']\n",
    "empty = []\n",
    "print(numbers)"
   ]
  },
  {
   "cell_type": "markdown",
   "metadata": {},
   "source": [
    "Lists can be nested, to create complex hierarchies of information."
   ]
  },
  {
   "cell_type": "code",
   "execution_count": 12,
   "metadata": {},
   "outputs": [
    {
     "name": "stdout",
     "output_type": "stream",
     "text": [
      "[1, 4, [2, 8], 9, [3, 5, 7, [9, 2]]]\n"
     ]
    }
   ],
   "source": [
    "nested = [1, 4, [2, 8], 9, [3, 5, 7, [9, 2]]]\n",
    "print(nested)"
   ]
  },
  {
   "cell_type": "markdown",
   "metadata": {},
   "source": [
    "Lets actually use the lists and access the values.  Here we show how to access individual items, as well as multiple items known as list slices.\n",
    "\n",
    "We can also sort lists with a simple statement .sort()."
   ]
  },
  {
   "cell_type": "code",
   "execution_count": 13,
   "metadata": {},
   "outputs": [
    {
     "name": "stdout",
     "output_type": "stream",
     "text": [
      "Gouda\n",
      "Cheddar\n",
      "['Cheddar', 'Edam', 'Gouda']\n"
     ]
    }
   ],
   "source": [
    "# using the cheeses list we created in a previous cell\n",
    "print(cheeses[2])\n",
    "print(cheeses[0])\n",
    "cheeses.sort()\n",
    "print(cheeses)"
   ]
  },
  {
   "cell_type": "markdown",
   "metadata": {},
   "source": [
    "We can use negative indexes to find items relative to the end of the list."
   ]
  },
  {
   "cell_type": "code",
   "execution_count": 14,
   "metadata": {},
   "outputs": [
    {
     "name": "stdout",
     "output_type": "stream",
     "text": [
      "42\n",
      "Gouda\n"
     ]
    }
   ],
   "source": [
    "# here again we are using the list called l, defined above in a previous cell, to access the 3rd item from the end\n",
    "print(numbers[-3])\n",
    "# this implies -1 always refers to the last item in the list\n",
    "print(numbers[-1])"
   ]
  },
  {
   "cell_type": "markdown",
   "metadata": {},
   "source": [
    "We can use slices to access parts or multiple values of a list.  Notice that the result of slicing a list is a new list."
   ]
  },
  {
   "cell_type": "code",
   "execution_count": 15,
   "metadata": {},
   "outputs": [
    {
     "name": "stdout",
     "output_type": "stream",
     "text": [
      "[42, 42]\n"
     ]
    }
   ],
   "source": [
    "print(numbers[1:3])"
   ]
  },
  {
   "cell_type": "markdown",
   "metadata": {},
   "source": [
    "Lists are **mutable**.  We can change particular items, add/insert and remove items."
   ]
  },
  {
   "cell_type": "code",
   "execution_count": 16,
   "metadata": {},
   "outputs": [
    {
     "name": "stdout",
     "output_type": "stream",
     "text": [
      "['Cheddar', 'Edam', 'Gouda', 'Swiss']\n",
      "['Cheddar', 'Gouda', 'Swiss']\n",
      "['Cheddar', 'Camembert', 'Swiss']\n"
     ]
    }
   ],
   "source": [
    "cheeses.append('Swiss')\n",
    "print(cheeses)\n",
    "cheeses.remove('Edam')\n",
    "print(cheeses)\n",
    "cheeses[1] = 'Camembert'\n",
    "print(cheeses)"
   ]
  },
  {
   "cell_type": "markdown",
   "metadata": {},
   "source": [
    "We can iterate through lists using a loop:"
   ]
  },
  {
   "cell_type": "code",
   "execution_count": 17,
   "metadata": {},
   "outputs": [
    {
     "name": "stdout",
     "output_type": "stream",
     "text": [
      "Cheddar\n",
      "Camembert\n",
      "Swiss\n"
     ]
    }
   ],
   "source": [
    "for i in cheeses:\n",
    "    print(i)"
   ]
  },
  {
   "cell_type": "markdown",
   "metadata": {},
   "source": [
    "**Tuple**\n",
    "\n",
    "Tuples are collections that are ordered and immutable (cannot be changed).  Tuples can have duplicate members.\n",
    "\n",
    "A Tuple is defined using parentheses and can be iterated through."
   ]
  },
  {
   "cell_type": "code",
   "execution_count": 18,
   "metadata": {},
   "outputs": [
    {
     "name": "stdout",
     "output_type": "stream",
     "text": [
      "apple\n",
      "blueberry\n",
      "cherry\n",
      "cherry\n"
     ]
    }
   ],
   "source": [
    "pies = (\"apple\",\"blueberry\",\"cherry\",\"cherry\")\n",
    "for i in pies:\n",
    "    print(i)\n"
   ]
  },
  {
   "cell_type": "markdown",
   "metadata": {},
   "source": [
    "One useful convention/pattern you will run across in Python coding is returning tuples from functions.  If you create a function that needs to return more than one value, you can return a tuple."
   ]
  },
  {
   "cell_type": "code",
   "execution_count": 19,
   "metadata": {},
   "outputs": [
    {
     "name": "stdout",
     "output_type": "stream",
     "text": [
      "Result of dividing 22 / 7 is 3 with a remainder of 1\n"
     ]
    }
   ],
   "source": [
    "def divide(x, y):\n",
    "    \"\"\"Integer division of the x (dividend) by y (divisor).\n",
    "    We expect x and y to be integers.\n",
    "    Return both the result (quotient) and the remainder\"\"\"\n",
    "    quotient = x / y\n",
    "    remainder = x % y\n",
    "    return (quotient, remainder)\n",
    "\n",
    "(q, r) = divide(22, 7)\n",
    "print('Result of dividing 22 / 7 is %d with a remainder of %d' % (q, r))"
   ]
  },
  {
   "cell_type": "markdown",
   "metadata": {},
   "source": [
    "Notice that, since the function returns a tuple with 2 values, we need to assign the result of calling the function back into a tuple \n",
    "with two variables.  In other words, since the `divide()` functions returns a tuple with 2 values, those 2 values are assigned\n",
    "into the variables `q` and `r` when returned from the function above.\n",
    "\n",
    "The divide function above is actually a reimplementation of the built-in divmod() Python function.  Notice that divmod() returns a tuple as well."
   ]
  },
  {
   "cell_type": "markdown",
   "metadata": {},
   "source": [
    "**Set**\n",
    "\n",
    "Sets are collections that are unordered and and unindexed.  Sets cannot have duplicate members.\n",
    "\n",
    "A Set is defined using braces and can be iterated through.\n",
    "\n",
    "In the following cell, write a loop to iterate through the set and add the string \" pie\" to each.  Print out the resulting set.  "
   ]
  },
  {
   "cell_type": "code",
   "execution_count": 20,
   "metadata": {},
   "outputs": [
    {
     "name": "stdout",
     "output_type": "stream",
     "text": [
      "blueberrypie\n",
      "cherrypie\n",
      "applepie\n"
     ]
    }
   ],
   "source": [
    "pie_types = {\"apple\",\"blueberry\",\"cherry\"}\n",
    "\n",
    "for i in pie_types:\n",
    "    print(i + \"pie\")"
   ]
  },
  {
   "cell_type": "markdown",
   "metadata": {},
   "source": [
    "**Dictionaries**\n",
    "\n",
    "Dictionaries are used extensively in Python programming.  They are a collection, which is unordered, mutable, and indexed (using special values called keys).  Dictionaries are also known as hash tables or maps in other contexts.  \n",
    "\n",
    "Like a list, a dictionary maps a key to a particular value.  But lists always map an \n",
    "integer index/key to a particular value.  A dictionary allows you to map any arbitrary key to a value.  Python uses curley \n",
    "braces `{` and `}` syntatically to indicate dictionary data structures.\n",
    "\n",
    "See the following example:"
   ]
  },
  {
   "cell_type": "code",
   "execution_count": 21,
   "metadata": {},
   "outputs": [
    {
     "name": "stdout",
     "output_type": "stream",
     "text": [
      "Newton was born in the year 1642\n",
      "Madame Curie was born in the year 1867\n"
     ]
    }
   ],
   "source": [
    "birthday = {'Newton': 1642,\n",
    "            'Darwin': 1809,\n",
    "            'Curie': 1867,\n",
    "            'Einstein': 1879}\n",
    "print(\"Newton was born in the year\", birthday['Newton'])\n",
    "print(\"Madame Curie was born in the year\", birthday['Curie'])\n"
   ]
  },
  {
   "cell_type": "markdown",
   "metadata": {},
   "source": [
    "We can add and remove from them after being created.\n",
    "\n",
    "Add a call at the end of the following cell to remove an item from the dictionary by making a call .pop(key), and then print out the result.  "
   ]
  },
  {
   "cell_type": "code",
   "execution_count": 22,
   "metadata": {},
   "outputs": [
    {
     "name": "stdout",
     "output_type": "stream",
     "text": [
      "{'Newton': 1642, 'Darwin': 1809, 'Curie': 1867, 'Einstein': 1879, 'Turing': 1912}\n",
      "{'Darwin': 1809, 'Curie': 1867, 'Einstein': 1879, 'Turing': 1912}\n"
     ]
    }
   ],
   "source": [
    "birthday['Turing'] = 1912\n",
    "print(birthday)\n",
    "birthday.pop('Newton')\n",
    "print(birthday)"
   ]
  },
  {
   "cell_type": "markdown",
   "metadata": {},
   "source": [
    "You can get a list of values in a dictionary by calling .values().  You can get the key/value pairs by calling .items().  "
   ]
  },
  {
   "cell_type": "code",
   "execution_count": 23,
   "metadata": {},
   "outputs": [
    {
     "name": "stdout",
     "output_type": "stream",
     "text": [
      "1809\n",
      "1867\n",
      "1879\n",
      "1912\n",
      "Darwin 1809\n",
      "Curie 1867\n",
      "Einstein 1879\n",
      "Turing 1912\n"
     ]
    }
   ],
   "source": [
    "for x in birthday.values():\n",
    "    print(x)\n",
    "    \n",
    "for x,y in birthday.items():\n",
    "    print(x,y)\n"
   ]
  },
  {
   "cell_type": "code",
   "execution_count": 24,
   "metadata": {},
   "outputs": [
    {
     "name": "stdout",
     "output_type": "stream",
     "text": [
      "Help on built-in function divmod in module builtins:\n",
      "\n",
      "divmod(x, y, /)\n",
      "    Return the tuple (x//y, x%y).  Invariant: div*y + mod == x.\n",
      "\n"
     ]
    }
   ],
   "source": [
    "help(divmod)"
   ]
  },
  {
   "cell_type": "markdown",
   "metadata": {},
   "source": [
    "Conditions and Iterations\n",
    "-------------------------\n",
    "\n",
    "We wouldn't be able to do much computing if we could only list a sequence of instructions that needed to be executed. Besides\n",
    "functions we also use conditional execution of code (**if**, **else**) and  looping to execute a block of \n",
    "statements multiple times (**for**, **while**)\n",
    "\n",
    "Python supports boolean **True**, and **False** as a built in data type."
   ]
  },
  {
   "cell_type": "code",
   "execution_count": 25,
   "metadata": {},
   "outputs": [
    {
     "name": "stdout",
     "output_type": "stream",
     "text": [
      "False\n",
      "True\n"
     ]
    },
    {
     "data": {
      "text/plain": [
       "bool"
      ]
     },
     "execution_count": 25,
     "metadata": {},
     "output_type": "execute_result"
    }
   ],
   "source": [
    "print(3 == 5)\n",
    "print(2 < 4)\n",
    "b = True\n",
    "type(b)"
   ]
  },
  {
   "cell_type": "markdown",
   "metadata": {},
   "source": [
    "We can build conditional execution statements using boolean or logical expressions.  You should try the following cell with even and odd integer values of `x`.  \n",
    "\n",
    "For the first time, here we encounted a peculiar and unusual aspect of the Python programming language: #Program blocks are defined by their indentation level.#\n",
    "\n",
    "Consider the Java code:\n",
    "```\n",
    "if (statement1){\n",
    "    System.out.println(\"statement1 is True\\n\");\n",
    "}\n",
    "else if (statement2){\n",
    "    System.out.println(\"statement2 is True\\n\");\n",
    "}\n",
    "else{\n",
    "    System.out.println(\"statement1 and statement2 are False\\n\");\n",
    "}\n",
    "```\n",
    "\n",
    "In Java blocks are defined by the enclosing curly brakets { and }. And the level of indentation (white space before the code statements) does not matter (completely optional).\n",
    "\n",
    "In Python, the extent of a code block is defined by the indentation level (usually four white spaces). This means that you must be careful to indent code correctly, or else you will get syntax errors."
   ]
  },
  {
   "cell_type": "code",
   "execution_count": 26,
   "metadata": {},
   "outputs": [
    {
     "name": "stdout",
     "output_type": "stream",
     "text": [
      "x is even\n"
     ]
    }
   ],
   "source": [
    "def a(x):\n",
    "    if x % 2 == 0:\n",
    "        print('x is even')\n",
    "    else:\n",
    "        print('x is odd')\n",
    "\n",
    "a(4)"
   ]
  },
  {
   "cell_type": "markdown",
   "metadata": {},
   "source": [
    "Change the preceeding cell to create a function that passes an integer variable into it.  Call this function to test it out. \n",
    "\n",
    "Python contains no switch/case chained conditional, instead in Python we use if, elseif, else blocks.\n",
    "\n",
    "Here is an example.  Write a function tat takes as argument an integer x and returns f(x), f being defined as:\n",
    "\n",
    "$$\n",
    "f(x) = \\begin{cases}\n",
    "    \\text{Not Defined} & \\text{for} \\quad x < 1 \\\\\\\\ \n",
    "    1 & \\text{for} \\quad x = 1 \\\\\\\\\n",
    "    3 & \\text{for} \\quad x = 2 \\\\\\\\\n",
    "    f(x-1) \\cdot  f(x-2) + f(x-1)~~~~& \\text{for} \\quad x > 2 \\\\\\\\\n",
    "\\end{cases}\n",
    "$$"
   ]
  },
  {
   "cell_type": "code",
   "execution_count": 27,
   "metadata": {},
   "outputs": [
    {
     "name": "stdout",
     "output_type": "stream",
     "text": [
      "1\n",
      "Not Defined\n",
      "Result: 16\n"
     ]
    }
   ],
   "source": [
    "def f(x):\n",
    "    #finish me!\n",
    "    if(x < 1):\n",
    "        print(\"Not Defined\")\n",
    "    elif(x == 1):\n",
    "        print(x)\n",
    "    elif(x == 2):\n",
    "        print(3)\n",
    "    else:\n",
    "        string = 'Result: '\n",
    "        answer = (x-1) * (x-2) + (x-1)\n",
    "        print(string + str(answer))\n",
    "    \n",
    "f(1)    \n",
    "f(-3)\n",
    "f(5)"
   ]
  },
  {
   "cell_type": "markdown",
   "metadata": {},
   "source": [
    "The while statement is available for variable controlled loops, but by far the **for x in y** pattern is used much more commonly in Python in order to iterate over the elements of a data structure.  "
   ]
  },
  {
   "cell_type": "code",
   "execution_count": 28,
   "metadata": {},
   "outputs": [
    {
     "name": "stdout",
     "output_type": "stream",
     "text": [
      "Here is a cheese:  Cheddar\n",
      "Here is a cheese:  Camembert\n",
      "Here is a cheese:  Swiss\n",
      "Darwin was born in year 1809\n",
      "Curie was born in year 1867\n",
      "Einstein was born in year 1879\n",
      "Turing was born in year 1912\n"
     ]
    }
   ],
   "source": [
    "# assuming cheeses is still defined from previous cells\n",
    "for c in cheeses:\n",
    "    print(\"Here is a cheese: \", c)\n",
    "\n",
    "# ditto, we are using the birthday dictionary from above here\n",
    "for scientist, byear in birthday.items():\n",
    "    print(\"%s was born in year %d\" % (scientist, byear))"
   ]
  },
  {
   "cell_type": "markdown",
   "metadata": {},
   "source": [
    "Acknowledgements\n",
    "----------------\n",
    "\n",
    "Original versions of these notebooks created by J.R. Johansson (robert@riken.jp) http://dml.riken.jp/~rob/ and Dr. Jay Urbain.  Modifications were made by Dr. Derek Riley"
   ]
  }
 ],
 "metadata": {
  "kernelspec": {
   "display_name": "Python 3 (ipykernel)",
   "language": "python",
   "name": "python3"
  },
  "language_info": {
   "codemirror_mode": {
    "name": "ipython",
    "version": 3
   },
   "file_extension": ".py",
   "mimetype": "text/x-python",
   "name": "python",
   "nbconvert_exporter": "python",
   "pygments_lexer": "ipython3",
   "version": "3.9.13"
  }
 },
 "nbformat": 4,
 "nbformat_minor": 1
}
